{
 "cells": [
  {
   "cell_type": "code",
   "execution_count": 2,
   "id": "04cc33ea",
   "metadata": {},
   "outputs": [
    {
     "data": {
      "text/plain": [
       "6"
      ]
     },
     "execution_count": 2,
     "metadata": {},
     "output_type": "execute_result"
    }
   ],
   "source": [
    "def rect(height,width):\n",
    "    return width*height\n",
    "rect(2,3)"
   ]
  },
  {
   "cell_type": "code",
   "execution_count": 3,
   "id": "5481cc4b",
   "metadata": {},
   "outputs": [
    {
     "name": "stdout",
     "output_type": "stream",
     "text": [
      "B is MAX\n"
     ]
    }
   ],
   "source": [
    "def maxi(a,b):\n",
    "    if a<b:\n",
    "        print(\"B is MAX\")\n",
    "    elif a==b:\n",
    "        print(\"Both are Equal\")\n",
    "    else:\n",
    "        print(\"A is Max\")\n",
    "maxi(2,3)"
   ]
  },
  {
   "cell_type": "code",
   "execution_count": 5,
   "id": "cf0032f1",
   "metadata": {},
   "outputs": [
    {
     "data": {
      "text/plain": [
       "32"
      ]
     },
     "execution_count": 5,
     "metadata": {},
     "output_type": "execute_result"
    }
   ],
   "source": [
    " def cal(a,b):\n",
    "    return a+b\n",
    "    return a-b\n",
    "    return a*b\n",
    "    return a/b\n",
    "    return a%b\n",
    "    return a**b\n",
    "cal(10,22)"
   ]
  },
  {
   "cell_type": "code",
   "execution_count": 8,
   "id": "1250b3bf",
   "metadata": {},
   "outputs": [
    {
     "name": "stdout",
     "output_type": "stream",
     "text": [
      "Hello\n",
      "Teja Teja Teja Teja Teja Teja Teja Teja Teja Teja \n"
     ]
    }
   ],
   "source": [
    "def say(message, times = 1):\n",
    "    print(message * times)\n",
    "say('Hello')\n",
    "say(\"Teja \",10)"
   ]
  },
  {
   "cell_type": "code",
   "execution_count": 15,
   "id": "5a2ccc80",
   "metadata": {},
   "outputs": [
    {
     "name": "stdout",
     "output_type": "stream",
     "text": [
      "4 5 7\n"
     ]
    }
   ],
   "source": [
    "def func(a=100,b=6,c=10):\n",
    "    print(a,b,c)\n",
    "func(4,5,7)"
   ]
  },
  {
   "cell_type": "code",
   "execution_count": 18,
   "id": "53b42bcf",
   "metadata": {},
   "outputs": [
    {
     "name": "stdout",
     "output_type": "stream",
     "text": [
      "X is Still:  100\n"
     ]
    }
   ],
   "source": [
    "x = 100\n",
    "def func(x):\n",
    "    print('X value is: ',x)\n",
    "    x = 200\n",
    "    print('Changed value is: ',x)\n",
    "print(\"X is Still: \",x)"
   ]
  },
  {
   "cell_type": "code",
   "execution_count": 19,
   "id": "e5de9a37",
   "metadata": {},
   "outputs": [
    {
     "name": "stdout",
     "output_type": "stream",
     "text": [
      "Teja\n",
      "Naidu\n",
      "Daripineni\n",
      "Chowdary\n"
     ]
    }
   ],
   "source": [
    "def myfun(*argv):\n",
    "    for arg in argv:\n",
    "        print(arg)\n",
    "myfun(\"Teja\",\"Naidu\",\"Daripineni\",\"Chowdary\")"
   ]
  },
  {
   "cell_type": "code",
   "execution_count": 23,
   "id": "fa21350c",
   "metadata": {},
   "outputs": [
    {
     "name": "stdout",
     "output_type": "stream",
     "text": [
      "\n",
      "Data Type of Argument is: <class 'dict'>\n",
      "firstname is Teja\n",
      "Lastname is Daripineni\n",
      "MiddileName is Naidu\n",
      "Salary is 20000\n",
      "\n",
      "Data Type of Argument is: <class 'dict'>\n",
      "firstname is Balaji\n",
      "Lastname is Pemmasani\n",
      "MiddileName is Reddy\n",
      "Salary is 520000\n"
     ]
    }
   ],
   "source": [
    "def into(**data):\n",
    "    print(\"\\nData Type of Argument is:\",type(data))\n",
    "    \n",
    "    for key,value in data.items():\n",
    "        print(\"{} is {}\".format(key,value))\n",
    "into(firstname = 'Teja', Lastname = \"Daripineni\",MiddileName='Naidu',Salary = 20000)\n",
    "into(firstname = 'Balaji', Lastname = \"Pemmasani\",MiddileName='Reddy',Salary = 520000)"
   ]
  },
  {
   "cell_type": "code",
   "execution_count": 26,
   "id": "f2325a06",
   "metadata": {},
   "outputs": [
    {
     "name": "stdout",
     "output_type": "stream",
     "text": [
      "69\n"
     ]
    }
   ],
   "source": [
    " def total(initial,*numbers,**keywords):\n",
    "        count  = initial\n",
    "        for number in numbers:\n",
    "            count += number\n",
    "        for key in keywords:\n",
    "            count += keywords[key]\n",
    "        return count\n",
    "print(total(10,1,2,3,4,5,age = 21,size = 23))"
   ]
  },
  {
   "cell_type": "code",
   "execution_count": null,
   "id": "601d6904",
   "metadata": {},
   "outputs": [],
   "source": []
  },
  {
   "cell_type": "code",
   "execution_count": null,
   "id": "d305385e",
   "metadata": {},
   "outputs": [],
   "source": []
  },
  {
   "cell_type": "code",
   "execution_count": null,
   "id": "926516b2",
   "metadata": {},
   "outputs": [],
   "source": []
  },
  {
   "cell_type": "code",
   "execution_count": null,
   "id": "3fdd93cd",
   "metadata": {},
   "outputs": [],
   "source": []
  },
  {
   "cell_type": "code",
   "execution_count": null,
   "id": "59c1cd4d",
   "metadata": {},
   "outputs": [],
   "source": []
  },
  {
   "cell_type": "code",
   "execution_count": null,
   "id": "c0fb26d7",
   "metadata": {},
   "outputs": [],
   "source": []
  }
 ],
 "metadata": {
  "kernelspec": {
   "display_name": "Python 3 (ipykernel)",
   "language": "python",
   "name": "python3"
  },
  "language_info": {
   "codemirror_mode": {
    "name": "ipython",
    "version": 3
   },
   "file_extension": ".py",
   "mimetype": "text/x-python",
   "name": "python",
   "nbconvert_exporter": "python",
   "pygments_lexer": "ipython3",
   "version": "3.11.5"
  }
 },
 "nbformat": 4,
 "nbformat_minor": 5
}
