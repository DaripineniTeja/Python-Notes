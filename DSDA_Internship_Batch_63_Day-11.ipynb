{
 "cells": [
  {
   "cell_type": "markdown",
   "id": "305510ad",
   "metadata": {},
   "source": [
    "# Function call Stack"
   ]
  },
  {
   "cell_type": "code",
   "execution_count": 2,
   "id": "ff091076",
   "metadata": {},
   "outputs": [
    {
     "name": "stdout",
     "output_type": "stream",
     "text": [
      "5\n"
     ]
    }
   ],
   "source": [
    "x = 5 #Global Variable\n",
    "def func(x):\n",
    "    print(x)\n",
    "func(x)"
   ]
  },
  {
   "cell_type": "code",
   "execution_count": 8,
   "id": "b97ef536",
   "metadata": {},
   "outputs": [
    {
     "name": "stdout",
     "output_type": "stream",
     "text": [
      "20\n",
      "5\n"
     ]
    }
   ],
   "source": [
    "x = 5\n",
    "def funv():\n",
    "    x = 20 #Local Variable\n",
    "    print(x)\n",
    "funv()\n",
    "\n",
    "print(x)"
   ]
  },
  {
   "cell_type": "code",
   "execution_count": 15,
   "id": "6b228e5d",
   "metadata": {},
   "outputs": [
    {
     "name": "stdout",
     "output_type": "stream",
     "text": [
      "Aravind is 25 years old and lives in Mumbai\n",
      "Teja is 23 years old and lives in Pune\n"
     ]
    }
   ],
   "source": [
    "age = 23\n",
    "name = 'Teja'\n",
    "places  = ['Nagpur','Mumbai','Pune']\n",
    "\n",
    "def local():\n",
    "    age = 25\n",
    "    name = 'Aravind'\n",
    "    print(\"%s is %i years old and lives in %s\" %(name,age,places[1]))\n",
    "    return\n",
    "local()\n",
    "\n",
    "print(\"%s is %i years old and lives in %s\" %(name,age,places[2]))"
   ]
  },
  {
   "cell_type": "code",
   "execution_count": 17,
   "id": "c03d95be",
   "metadata": {},
   "outputs": [
    {
     "name": "stdout",
     "output_type": "stream",
     "text": [
      "Number is  5\n",
      "5\n"
     ]
    }
   ],
   "source": [
    "x = 5\n",
    "def new():\n",
    "    global x\n",
    "    print(\"Number is \",x)\n",
    "new()\n",
    "\n",
    "print(x)"
   ]
  },
  {
   "cell_type": "markdown",
   "id": "53a0bf15",
   "metadata": {},
   "source": [
    "# Recursion"
   ]
  },
  {
   "cell_type": "code",
   "execution_count": 7,
   "id": "58275d52",
   "metadata": {},
   "outputs": [
    {
     "name": "stdout",
     "output_type": "stream",
     "text": [
      "Factorial of 10 is 1\n",
      "Factorial of 10 is 2\n",
      "Factorial of 10 is 6\n",
      "Factorial of 10 is 24\n",
      "Factorial of 10 is 120\n",
      "Factorial of 10 is 720\n",
      "Factorial of 10 is 5040\n",
      "Factorial of 10 is 40320\n",
      "Factorial of 10 is 362880\n",
      "Factorial of 10 is 3628800\n"
     ]
    }
   ],
   "source": [
    "def fact(n):\n",
    "    if n < 0:\n",
    "        print(\"N should be Positive\")\n",
    "    elif n == 0:\n",
    "        print(\"The Factorial of 0 is 1\")\n",
    "    else:\n",
    "        fact = 1\n",
    "        for i in range(1,n+1):\n",
    "            fact = fact *  i\n",
    "            print(f'Factorial of {n} is {fact}')\n",
    "fact(10)"
   ]
  },
  {
   "cell_type": "code",
   "execution_count": 15,
   "id": "f77cf2b5",
   "metadata": {},
   "outputs": [
    {
     "data": {
      "text/plain": [
       "120"
      ]
     },
     "execution_count": 15,
     "metadata": {},
     "output_type": "execute_result"
    }
   ],
   "source": [
    "def fact(n):\n",
    "    if n < 0:\n",
    "        print(\"N sholud be positive\")\n",
    "    elif (n == 0):\n",
    "        print(\"Factorial of 0 is 1\")\n",
    "    elif n == 1:\n",
    "            return 1\n",
    "    else:\n",
    "        return(n * fact(n-1))\n",
    "fact(5)"
   ]
  },
  {
   "cell_type": "markdown",
   "id": "aa34ec87",
   "metadata": {},
   "source": [
    "# List Comprehensions"
   ]
  },
  {
   "cell_type": "code",
   "execution_count": 16,
   "id": "f323cdca",
   "metadata": {},
   "outputs": [
    {
     "data": {
      "text/plain": [
       "[36]"
      ]
     },
     "execution_count": 16,
     "metadata": {},
     "output_type": "execute_result"
    }
   ],
   "source": [
    "symbols  = '$'\n",
    "codes = []\n",
    "for symbol in symbols:\n",
    "    codes.append(ord(symbol))\n",
    "codes"
   ]
  },
  {
   "cell_type": "code",
   "execution_count": 18,
   "id": "659a70b3",
   "metadata": {},
   "outputs": [
    {
     "name": "stdout",
     "output_type": "stream",
     "text": [
      "[0, 2, 4, 6, 8, 10]\n"
     ]
    }
   ],
   "source": [
    "new_list = [i for i in range(12) if i % 2 == 0]\n",
    "print(new_list)"
   ]
  },
  {
   "cell_type": "code",
   "execution_count": 19,
   "id": "c32dcdac",
   "metadata": {},
   "outputs": [
    {
     "name": "stdout",
     "output_type": "stream",
     "text": [
      "[1, 3, 5, 7, 9, 11]\n"
     ]
    }
   ],
   "source": [
    "new_list = [i for i in range(12) if i % 2 == 1]\n",
    "print(new_list)"
   ]
  },
  {
   "cell_type": "markdown",
   "id": "65233365",
   "metadata": {},
   "source": [
    "# Dictonary Comprehension"
   ]
  },
  {
   "cell_type": "code",
   "execution_count": 23,
   "id": "2cd7b958",
   "metadata": {},
   "outputs": [
    {
     "name": "stdout",
     "output_type": "stream",
     "text": [
      "range(0, 10)\n",
      "{0: 0, 3: 9, 6: 36, 9: 81}\n"
     ]
    }
   ],
   "source": [
    "numbers  = range(10)\n",
    "print(numbers)\n",
    "\n",
    "dict1 = {}\n",
    "\n",
    "for i in numbers:\n",
    "    if i % 3 == 0:\n",
    "        dict1[i] = i ** 2\n",
    "print(dict1)"
   ]
  },
  {
   "cell_type": "code",
   "execution_count": 24,
   "id": "2bb6c4cb",
   "metadata": {},
   "outputs": [
    {
     "name": "stdout",
     "output_type": "stream",
     "text": [
      "{0: 0, 2: 4, 4: 16, 6: 36, 8: 64}\n"
     ]
    }
   ],
   "source": [
    "dcit1 =  {n: n**2 for n in numbers if n % 2 == 0}\n",
    "print(dcit1)"
   ]
  },
  {
   "cell_type": "code",
   "execution_count": 25,
   "id": "507024ad",
   "metadata": {},
   "outputs": [
    {
     "name": "stdout",
     "output_type": "stream",
     "text": [
      "{'aa': 2, 'bb': 4, 'cc': 6, 'dd': 8, 'ee': 12, 'ff': 18}\n"
     ]
    }
   ],
   "source": [
    "dict2 = {'a':1,'b':2,'c':3,'d':4,'e':6,'f':9}\n",
    "dict2_keys = {k * 2 : v * 2 for (k,v) in dict2.items()}\n",
    "print(dict2_keys)"
   ]
  },
  {
   "cell_type": "markdown",
   "id": "b0afb950",
   "metadata": {},
   "source": [
    "# ZIP AND UNZIP"
   ]
  },
  {
   "cell_type": "code",
   "execution_count": 26,
   "id": "a9140c11",
   "metadata": {},
   "outputs": [
    {
     "name": "stdout",
     "output_type": "stream",
     "text": [
      "The zipped list is:\n",
      "{('Aravind', 2, 90), ('Teja', 1, 80), ('Balaji', 3, 98), ('Swathi', 4, 99)}\n"
     ]
    }
   ],
   "source": [
    "names = ['Teja','Aravind','Balaji','Swathi']\n",
    "roll = [1,2,3,4]\n",
    "marks = [80,90,98,99]\n",
    "\n",
    "mapped = zip(names,roll,marks)\n",
    "\n",
    "mapped = set(mapped)\n",
    "\n",
    "print(\"The zipped list is:\")\n",
    "print(mapped)"
   ]
  },
  {
   "cell_type": "code",
   "execution_count": null,
   "id": "60b644b8",
   "metadata": {},
   "outputs": [],
   "source": [
    "# namz,rollz,markz = zip(*mapped)\n",
    "\n",
    "print(\"The unzipped result: \\n\",end = \"\")\n",
    "print(\"The name list is \",end=\"\")\n",
    "print(namz)\n",
    "print(\"The unzipped result: \\n\",end = \"\")\n",
    "print(\"The Roll Number list is \",end=\"\")\n",
    "print(rollz)\n",
    "print(\"The unzipped result: \\n\",end = \"\")\n",
    "print(\"The Marks list is \",end=\"\")\n",
    "print(markz)"
   ]
  },
  {
   "cell_type": "markdown",
   "id": "ec398ebc",
   "metadata": {},
   "source": [
    "# Build In Sort Functions"
   ]
  },
  {
   "cell_type": "code",
   "execution_count": 1,
   "id": "99969bcd",
   "metadata": {},
   "outputs": [
    {
     "data": {
      "text/plain": [
       "['cat', 'dog', 'elephant', 'goat', 'sheep']"
      ]
     },
     "execution_count": 1,
     "metadata": {},
     "output_type": "execute_result"
    }
   ],
   "source": [
    "animals  = ['dog','cat','sheep','goat','elephant']\n",
    "sorted(animals)"
   ]
  },
  {
   "cell_type": "code",
   "execution_count": 2,
   "id": "b4a60a1b",
   "metadata": {},
   "outputs": [
    {
     "data": {
      "text/plain": [
       "['sheep', 'goat', 'elephant', 'dog', 'cat']"
      ]
     },
     "execution_count": 2,
     "metadata": {},
     "output_type": "execute_result"
    }
   ],
   "source": [
    "animals  = ['dog','cat','sheep','goat','elephant']\n",
    "sorted(animals,reverse = True)"
   ]
  },
  {
   "cell_type": "code",
   "execution_count": 3,
   "id": "b6a7df23",
   "metadata": {},
   "outputs": [
    {
     "data": {
      "text/plain": [
       "['dog', 'cat', 'goat', 'sheep', 'elephant']"
      ]
     },
     "execution_count": 3,
     "metadata": {},
     "output_type": "execute_result"
    }
   ],
   "source": [
    "animals  = ['dog','cat','sheep','goat','elephant']\n",
    "sorted(animals,key = len)"
   ]
  },
  {
   "cell_type": "code",
   "execution_count": 4,
   "id": "3118ad00",
   "metadata": {},
   "outputs": [
    {
     "data": {
      "text/plain": [
       "['elephant', 'sheep', 'goat', 'dog', 'cat']"
      ]
     },
     "execution_count": 4,
     "metadata": {},
     "output_type": "execute_result"
    }
   ],
   "source": [
    "animals  = ['dog','cat','sheep','goat','elephant']\n",
    "sorted(animals,key = len , reverse = True)"
   ]
  },
  {
   "cell_type": "code",
   "execution_count": 6,
   "id": "9a55ab25",
   "metadata": {},
   "outputs": [
    {
     "data": {
      "text/plain": [
       "['cat', 'dog', 'elephant', 'goat', 'sheep']"
      ]
     },
     "execution_count": 6,
     "metadata": {},
     "output_type": "execute_result"
    }
   ],
   "source": [
    "animals.sort()\n",
    "animals"
   ]
  },
  {
   "cell_type": "markdown",
   "id": "e64d4f48",
   "metadata": {},
   "source": [
    "# Agumneted assignment with sequences"
   ]
  },
  {
   "cell_type": "code",
   "execution_count": 10,
   "id": "2aee8dc7",
   "metadata": {},
   "outputs": [
    {
     "name": "stdout",
     "output_type": "stream",
     "text": [
      "1723172851648 [1, 2, 3, 4, 5, 6]\n",
      "1723172829504 [1, 2, 3, 4, 5, 6, 1, 2, 3, 4, 5, 6]\n"
     ]
    }
   ],
   "source": [
    "l = [1,2,3,4,5,6] #same memory Location\n",
    "print(id(l),l)\n",
    "\n",
    "l = l *  2\n",
    "print(id(l),l)"
   ]
  },
  {
   "cell_type": "code",
   "execution_count": 13,
   "id": "36a555c6",
   "metadata": {},
   "outputs": [
    {
     "name": "stdout",
     "output_type": "stream",
     "text": [
      "1723172720832 (8, 3, 5, 2, 9, 2, 7, 6, 3, 3, 6)\n",
      "1723172203968 (8, 3, 5, 2, 9, 2, 7, 6, 3, 3, 6, 8, 3, 5, 2, 9, 2, 7, 6, 3, 3, 6)\n"
     ]
    }
   ],
   "source": [
    "t = (8,3,5,2,9,2,7,6,3,3,6) #Different memory location\n",
    "print(id(t),t)\n",
    "\n",
    "t *= 2\n",
    "print(id(t),t)"
   ]
  },
  {
   "cell_type": "markdown",
   "id": "804076cc",
   "metadata": {},
   "source": [
    "# Lambada Functions"
   ]
  },
  {
   "cell_type": "code",
   "execution_count": 14,
   "id": "589b5d93",
   "metadata": {},
   "outputs": [
    {
     "data": {
      "text/plain": [
       "6"
      ]
     },
     "execution_count": 14,
     "metadata": {},
     "output_type": "execute_result"
    }
   ],
   "source": [
    "s = lambda x : x + 4\n",
    "s(2)"
   ]
  },
  {
   "cell_type": "markdown",
   "id": "0ddafeda",
   "metadata": {},
   "source": [
    "# Map"
   ]
  },
  {
   "cell_type": "markdown",
   "id": "cdfabf16",
   "metadata": {},
   "source": [
    "filter(function,iterable)"
   ]
  },
  {
   "cell_type": "code",
   "execution_count": 15,
   "id": "841795eb",
   "metadata": {},
   "outputs": [
    {
     "data": {
      "text/plain": [
       "[2, 4, 6, 8, 10, 12, 14, 16, 18]"
      ]
     },
     "execution_count": 15,
     "metadata": {},
     "output_type": "execute_result"
    }
   ],
   "source": [
    "val = [1,2,3,4,5,6,7,8,9]\n",
    "\n",
    "list(map(lambda x: x * 2,val))"
   ]
  },
  {
   "cell_type": "code",
   "execution_count": 16,
   "id": "e61f7e5e",
   "metadata": {},
   "outputs": [
    {
     "data": {
      "text/plain": [
       "['1', '2', '3', '4', '5', '6', '7', '8', '9']"
      ]
     },
     "execution_count": 16,
     "metadata": {},
     "output_type": "execute_result"
    }
   ],
   "source": [
    "list(map(str,val))"
   ]
  },
  {
   "cell_type": "markdown",
   "id": "f0c08ea0",
   "metadata": {},
   "source": [
    "# Filter"
   ]
  },
  {
   "cell_type": "code",
   "execution_count": 18,
   "id": "15069e3d",
   "metadata": {},
   "outputs": [
    {
     "data": {
      "text/plain": [
       "[1, 3, 5, 7, 9]"
      ]
     },
     "execution_count": 18,
     "metadata": {},
     "output_type": "execute_result"
    }
   ],
   "source": [
    "val = [1,2,3,4,5,6,7,8,9]\n",
    "\n",
    "list(filter(lambda x: x % 2, val))"
   ]
  },
  {
   "cell_type": "code",
   "execution_count": 21,
   "id": "aa53a436",
   "metadata": {},
   "outputs": [
    {
     "data": {
      "text/plain": [
       "[1,\n",
       " 2,\n",
       " 3,\n",
       " 4,\n",
       " 5,\n",
       " 6,\n",
       " 7,\n",
       " 8,\n",
       " 9,\n",
       " 10,\n",
       " 11,\n",
       " 12,\n",
       " 13,\n",
       " 14,\n",
       " 15,\n",
       " 16,\n",
       " 17,\n",
       " 18,\n",
       " 19,\n",
       " 20,\n",
       " 21,\n",
       " 22,\n",
       " 23,\n",
       " 24,\n",
       " 25,\n",
       " 26,\n",
       " 27,\n",
       " 28,\n",
       " 29,\n",
       " 30,\n",
       " 31,\n",
       " 32,\n",
       " 33,\n",
       " 34,\n",
       " 35,\n",
       " 36,\n",
       " 37,\n",
       " 38,\n",
       " 39,\n",
       " 40,\n",
       " 41,\n",
       " 42,\n",
       " 43,\n",
       " 44,\n",
       " 45,\n",
       " 46,\n",
       " 47,\n",
       " 48,\n",
       " 49]"
      ]
     },
     "execution_count": 21,
     "metadata": {},
     "output_type": "execute_result"
    }
   ],
   "source": [
    "list(filter(lambda x: x < 50, list(range(1,100))))"
   ]
  },
  {
   "cell_type": "markdown",
   "id": "1815a1a4",
   "metadata": {},
   "source": [
    "# Reduce"
   ]
  },
  {
   "cell_type": "code",
   "execution_count": 23,
   "id": "6503d9e8",
   "metadata": {},
   "outputs": [
    {
     "data": {
      "text/plain": [
       "120"
      ]
     },
     "execution_count": 23,
     "metadata": {},
     "output_type": "execute_result"
    }
   ],
   "source": [
    "from functools import reduce\n",
    "\n",
    "val = [1,2,3,4,5]\n",
    "\n",
    "reduce(lambda x, y: x * y,val)"
   ]
  },
  {
   "cell_type": "code",
   "execution_count": 25,
   "id": "3d95f502",
   "metadata": {},
   "outputs": [
    {
     "data": {
      "text/plain": [
       "4950"
      ]
     },
     "execution_count": 25,
     "metadata": {},
     "output_type": "execute_result"
    }
   ],
   "source": [
    "reduce(lambda x , y : x + y, list(range(1,100)))"
   ]
  },
  {
   "cell_type": "markdown",
   "id": "bd42a887",
   "metadata": {},
   "source": [
    "# LOOPS VS COMPREHENSION VS MAP"
   ]
  },
  {
   "cell_type": "code",
   "execution_count": 27,
   "id": "35298a88",
   "metadata": {},
   "outputs": [
    {
     "name": "stdout",
     "output_type": "stream",
     "text": [
      "[1, 4, 9, 16, 25]\n",
      "[1, 4, 9, 16, 25]\n",
      "[1, 4, 9, 16, 25]\n"
     ]
    }
   ],
   "source": [
    "list1 = [1,2,3,4,5]\n",
    "squares = []\n",
    "\n",
    "for i in list1:\n",
    "    squares.append(i ** 2)\n",
    "\n",
    "squares1 = [i ** 2 for i in list1]\n",
    "\n",
    "squares3 = list(map(lambda x : x ** 2,list1))\n",
    "\n",
    "print(squares)\n",
    "print(squares1)\n",
    "print(squares3)"
   ]
  },
  {
   "cell_type": "code",
   "execution_count": null,
   "id": "9fd13745",
   "metadata": {},
   "outputs": [],
   "source": []
  }
 ],
 "metadata": {
  "kernelspec": {
   "display_name": "Python 3 (ipykernel)",
   "language": "python",
   "name": "python3"
  },
  "language_info": {
   "codemirror_mode": {
    "name": "ipython",
    "version": 3
   },
   "file_extension": ".py",
   "mimetype": "text/x-python",
   "name": "python",
   "nbconvert_exporter": "python",
   "pygments_lexer": "ipython3",
   "version": "3.11.5"
  }
 },
 "nbformat": 4,
 "nbformat_minor": 5
}
