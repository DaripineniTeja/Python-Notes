{
 "cells": [
  {
   "cell_type": "markdown",
   "id": "b8e34cea",
   "metadata": {},
   "source": [
    "# SETS"
   ]
  },
  {
   "cell_type": "code",
   "execution_count": 1,
   "id": "d1c63e0c",
   "metadata": {},
   "outputs": [
    {
     "name": "stdout",
     "output_type": "stream",
     "text": [
      "{1, 2, 3, 4, 5, 6}\n",
      "{2, 3, 5, 6, 7, 8, 9}\n"
     ]
    }
   ],
   "source": [
    "set1 = {1,2,3,4,5,6,6}\n",
    "set2 = {8,3,5,2,9,2,7,6,3,3,6}\n",
    "print(set1)\n",
    "print(set2)"
   ]
  },
  {
   "cell_type": "code",
   "execution_count": 3,
   "id": "1cdb9559",
   "metadata": {},
   "outputs": [
    {
     "name": "stdout",
     "output_type": "stream",
     "text": [
      "{1, 2, 3, 4, 5, 6, 7, 8, 9}\n"
     ]
    }
   ],
   "source": [
    "set3 = set1.union(set2)\n",
    "print(set3)"
   ]
  },
  {
   "cell_type": "code",
   "execution_count": 5,
   "id": "7e067ba9",
   "metadata": {},
   "outputs": [
    {
     "name": "stdout",
     "output_type": "stream",
     "text": [
      "{1, 2, 3, 4, 5, 6, 7, 8, 9}\n"
     ]
    }
   ],
   "source": [
    "set4 = set1.intersection(set2)\n",
    "print(set3)"
   ]
  },
  {
   "cell_type": "code",
   "execution_count": 7,
   "id": "b3776be7",
   "metadata": {},
   "outputs": [
    {
     "name": "stdout",
     "output_type": "stream",
     "text": [
      "{1, 4}\n"
     ]
    }
   ],
   "source": [
    "set5 = set1-set2\n",
    "print(set5)"
   ]
  },
  {
   "cell_type": "markdown",
   "id": "733c2f56",
   "metadata": {},
   "source": [
    "# DICTIONARIES"
   ]
  },
  {
   "cell_type": "code",
   "execution_count": 9,
   "id": "9ab49136",
   "metadata": {},
   "outputs": [
    {
     "name": "stdout",
     "output_type": "stream",
     "text": [
      "{'name': ('TEJA', 'ARAVIND'), 'age': (21, 24)}\n"
     ]
    }
   ],
   "source": [
    "dict1 = {'name':(\"TEJA\",\"ARAVIND\"),'age':(21,24)}\n",
    "print(dict1)"
   ]
  },
  {
   "cell_type": "code",
   "execution_count": 10,
   "id": "a21e354e",
   "metadata": {},
   "outputs": [
    {
     "name": "stdout",
     "output_type": "stream",
     "text": [
      "('TEJA', 'ARAVIND')\n"
     ]
    }
   ],
   "source": [
    "print(dict1['name'])"
   ]
  },
  {
   "cell_type": "code",
   "execution_count": 11,
   "id": "c54679f4",
   "metadata": {},
   "outputs": [
    {
     "name": "stdout",
     "output_type": "stream",
     "text": [
      "(21, 24)\n"
     ]
    }
   ],
   "source": [
    "print(dict1['age'])"
   ]
  },
  {
   "cell_type": "code",
   "execution_count": 12,
   "id": "1e792d3d",
   "metadata": {},
   "outputs": [
    {
     "name": "stdout",
     "output_type": "stream",
     "text": [
      "{'name': 'Balaji', 'age': 63}\n"
     ]
    }
   ],
   "source": [
    "dict2 = {'name':('Balaji'),'age':(63)}\n",
    "print(dict2)"
   ]
  },
  {
   "cell_type": "code",
   "execution_count": 14,
   "id": "44a878fb",
   "metadata": {},
   "outputs": [],
   "source": [
    "dict2['age']= 20"
   ]
  },
  {
   "cell_type": "code",
   "execution_count": 15,
   "id": "1038fca9",
   "metadata": {},
   "outputs": [
    {
     "name": "stdout",
     "output_type": "stream",
     "text": [
      "{'name': 'Balaji', 'age': 20}\n"
     ]
    }
   ],
   "source": [
    "print(dict2)"
   ]
  },
  {
   "cell_type": "code",
   "execution_count": 16,
   "id": "94ac9f09",
   "metadata": {},
   "outputs": [
    {
     "data": {
      "text/plain": [
       "{'name': ('TEJA', 'ARAVIND'),\n",
       " 'age': (21, 24),\n",
       " 'School': 'DPS School',\n",
       " 'sal': [50000, 60000, 100000]}"
      ]
     },
     "execution_count": 16,
     "metadata": {},
     "output_type": "execute_result"
    }
   ],
   "source": [
    "dict1['School'] = 'DPS School'\n",
    "dict1['sal'] = [50000,60000,100000]\n",
    "dict1"
   ]
  },
  {
   "cell_type": "code",
   "execution_count": 18,
   "id": "aba9e247",
   "metadata": {},
   "outputs": [
    {
     "data": {
      "text/plain": [
       "{'age': 20}"
      ]
     },
     "execution_count": 18,
     "metadata": {},
     "output_type": "execute_result"
    }
   ],
   "source": [
    "del(dict2['name'])\n",
    "dict2"
   ]
  },
  {
   "cell_type": "code",
   "execution_count": 19,
   "id": "b2671960",
   "metadata": {},
   "outputs": [],
   "source": [
    "dict2.clear()"
   ]
  },
  {
   "cell_type": "code",
   "execution_count": 20,
   "id": "e85a9344",
   "metadata": {},
   "outputs": [
    {
     "data": {
      "text/plain": [
       "{}"
      ]
     },
     "execution_count": 20,
     "metadata": {},
     "output_type": "execute_result"
    }
   ],
   "source": [
    "dict2"
   ]
  },
  {
   "cell_type": "code",
   "execution_count": 21,
   "id": "e6010d19",
   "metadata": {},
   "outputs": [
    {
     "data": {
      "text/plain": [
       "dict_items([('name', ('TEJA', 'ARAVIND')), ('age', (21, 24)), ('School', 'DPS School'), ('sal', [50000, 60000, 100000])])"
      ]
     },
     "execution_count": 21,
     "metadata": {},
     "output_type": "execute_result"
    }
   ],
   "source": [
    "dict1.items()"
   ]
  },
  {
   "cell_type": "code",
   "execution_count": 22,
   "id": "b69bbc80",
   "metadata": {},
   "outputs": [
    {
     "data": {
      "text/plain": [
       "dict_keys(['name', 'age', 'School', 'sal'])"
      ]
     },
     "execution_count": 22,
     "metadata": {},
     "output_type": "execute_result"
    }
   ],
   "source": [
    "dict1.keys()"
   ]
  },
  {
   "cell_type": "code",
   "execution_count": 23,
   "id": "0f7b6191",
   "metadata": {},
   "outputs": [
    {
     "data": {
      "text/plain": [
       "dict_values([('TEJA', 'ARAVIND'), (21, 24), 'DPS School', [50000, 60000, 100000]])"
      ]
     },
     "execution_count": 23,
     "metadata": {},
     "output_type": "execute_result"
    }
   ],
   "source": [
    "dict1.values()"
   ]
  },
  {
   "cell_type": "code",
   "execution_count": 25,
   "id": "322b5dae",
   "metadata": {},
   "outputs": [
    {
     "name": "stdout",
     "output_type": "stream",
     "text": [
      "Help on class dict in module builtins:\n",
      "\n",
      "class dict(object)\n",
      " |  dict() -> new empty dictionary\n",
      " |  dict(mapping) -> new dictionary initialized from a mapping object's\n",
      " |      (key, value) pairs\n",
      " |  dict(iterable) -> new dictionary initialized as if via:\n",
      " |      d = {}\n",
      " |      for k, v in iterable:\n",
      " |          d[k] = v\n",
      " |  dict(**kwargs) -> new dictionary initialized with the name=value pairs\n",
      " |      in the keyword argument list.  For example:  dict(one=1, two=2)\n",
      " |  \n",
      " |  Built-in subclasses:\n",
      " |      StgDict\n",
      " |  \n",
      " |  Methods defined here:\n",
      " |  \n",
      " |  __contains__(self, key, /)\n",
      " |      True if the dictionary has the specified key, else False.\n",
      " |  \n",
      " |  __delitem__(self, key, /)\n",
      " |      Delete self[key].\n",
      " |  \n",
      " |  __eq__(self, value, /)\n",
      " |      Return self==value.\n",
      " |  \n",
      " |  __ge__(self, value, /)\n",
      " |      Return self>=value.\n",
      " |  \n",
      " |  __getattribute__(self, name, /)\n",
      " |      Return getattr(self, name).\n",
      " |  \n",
      " |  __getitem__(...)\n",
      " |      x.__getitem__(y) <==> x[y]\n",
      " |  \n",
      " |  __gt__(self, value, /)\n",
      " |      Return self>value.\n",
      " |  \n",
      " |  __init__(self, /, *args, **kwargs)\n",
      " |      Initialize self.  See help(type(self)) for accurate signature.\n",
      " |  \n",
      " |  __ior__(self, value, /)\n",
      " |      Return self|=value.\n",
      " |  \n",
      " |  __iter__(self, /)\n",
      " |      Implement iter(self).\n",
      " |  \n",
      " |  __le__(self, value, /)\n",
      " |      Return self<=value.\n",
      " |  \n",
      " |  __len__(self, /)\n",
      " |      Return len(self).\n",
      " |  \n",
      " |  __lt__(self, value, /)\n",
      " |      Return self<value.\n",
      " |  \n",
      " |  __ne__(self, value, /)\n",
      " |      Return self!=value.\n",
      " |  \n",
      " |  __or__(self, value, /)\n",
      " |      Return self|value.\n",
      " |  \n",
      " |  __repr__(self, /)\n",
      " |      Return repr(self).\n",
      " |  \n",
      " |  __reversed__(self, /)\n",
      " |      Return a reverse iterator over the dict keys.\n",
      " |  \n",
      " |  __ror__(self, value, /)\n",
      " |      Return value|self.\n",
      " |  \n",
      " |  __setitem__(self, key, value, /)\n",
      " |      Set self[key] to value.\n",
      " |  \n",
      " |  __sizeof__(...)\n",
      " |      D.__sizeof__() -> size of D in memory, in bytes\n",
      " |  \n",
      " |  clear(...)\n",
      " |      D.clear() -> None.  Remove all items from D.\n",
      " |  \n",
      " |  copy(...)\n",
      " |      D.copy() -> a shallow copy of D\n",
      " |  \n",
      " |  get(self, key, default=None, /)\n",
      " |      Return the value for key if key is in the dictionary, else default.\n",
      " |  \n",
      " |  items(...)\n",
      " |      D.items() -> a set-like object providing a view on D's items\n",
      " |  \n",
      " |  keys(...)\n",
      " |      D.keys() -> a set-like object providing a view on D's keys\n",
      " |  \n",
      " |  pop(...)\n",
      " |      D.pop(k[,d]) -> v, remove specified key and return the corresponding value.\n",
      " |      \n",
      " |      If the key is not found, return the default if given; otherwise,\n",
      " |      raise a KeyError.\n",
      " |  \n",
      " |  popitem(self, /)\n",
      " |      Remove and return a (key, value) pair as a 2-tuple.\n",
      " |      \n",
      " |      Pairs are returned in LIFO (last-in, first-out) order.\n",
      " |      Raises KeyError if the dict is empty.\n",
      " |  \n",
      " |  setdefault(self, key, default=None, /)\n",
      " |      Insert key with a value of default if key is not in the dictionary.\n",
      " |      \n",
      " |      Return the value for key if key is in the dictionary, else default.\n",
      " |  \n",
      " |  update(...)\n",
      " |      D.update([E, ]**F) -> None.  Update D from dict/iterable E and F.\n",
      " |      If E is present and has a .keys() method, then does:  for k in E: D[k] = E[k]\n",
      " |      If E is present and lacks a .keys() method, then does:  for k, v in E: D[k] = v\n",
      " |      In either case, this is followed by: for k in F:  D[k] = F[k]\n",
      " |  \n",
      " |  values(...)\n",
      " |      D.values() -> an object providing a view on D's values\n",
      " |  \n",
      " |  ----------------------------------------------------------------------\n",
      " |  Class methods defined here:\n",
      " |  \n",
      " |  __class_getitem__(...) from builtins.type\n",
      " |      See PEP 585\n",
      " |  \n",
      " |  fromkeys(iterable, value=None, /) from builtins.type\n",
      " |      Create a new dictionary with keys from iterable and values set to value.\n",
      " |  \n",
      " |  ----------------------------------------------------------------------\n",
      " |  Static methods defined here:\n",
      " |  \n",
      " |  __new__(*args, **kwargs) from builtins.type\n",
      " |      Create and return a new object.  See help(type) for accurate signature.\n",
      " |  \n",
      " |  ----------------------------------------------------------------------\n",
      " |  Data and other attributes defined here:\n",
      " |  \n",
      " |  __hash__ = None\n",
      "\n"
     ]
    }
   ],
   "source": [
    "help(dict)"
   ]
  },
  {
   "cell_type": "markdown",
   "id": "b112ff7b",
   "metadata": {},
   "source": [
    "# STRINGS"
   ]
  },
  {
   "cell_type": "code",
   "execution_count": 26,
   "id": "cb694fcf",
   "metadata": {},
   "outputs": [
    {
     "name": "stdout",
     "output_type": "stream",
     "text": [
      "P\n"
     ]
    }
   ],
   "source": [
    "name = 'Python'\n",
    "print(name[0])"
   ]
  },
  {
   "cell_type": "code",
   "execution_count": 27,
   "id": "1b7d7ae3",
   "metadata": {},
   "outputs": [
    {
     "name": "stdout",
     "output_type": "stream",
     "text": [
      "nohtyP\n"
     ]
    }
   ],
   "source": [
    "print(name[::-1])"
   ]
  },
  {
   "cell_type": "code",
   "execution_count": 28,
   "id": "c73424ad",
   "metadata": {},
   "outputs": [
    {
     "ename": "IndexError",
     "evalue": "string index out of range",
     "output_type": "error",
     "traceback": [
      "\u001b[1;31m---------------------------------------------------------------------------\u001b[0m",
      "\u001b[1;31mIndexError\u001b[0m                                Traceback (most recent call last)",
      "Cell \u001b[1;32mIn[28], line 1\u001b[0m\n\u001b[1;32m----> 1\u001b[0m name[\u001b[38;5;241m8\u001b[39m]\n",
      "\u001b[1;31mIndexError\u001b[0m: string index out of range"
     ]
    }
   ],
   "source": [
    "name[8]"
   ]
  },
  {
   "cell_type": "code",
   "execution_count": 29,
   "id": "5b6fb9e4",
   "metadata": {},
   "outputs": [
    {
     "data": {
      "text/plain": [
       "'n'"
      ]
     },
     "execution_count": 29,
     "metadata": {},
     "output_type": "execute_result"
    }
   ],
   "source": [
    "name[-1]"
   ]
  },
  {
   "cell_type": "code",
   "execution_count": 37,
   "id": "92ebd7f2",
   "metadata": {},
   "outputs": [
    {
     "name": "stdout",
     "output_type": "stream",
     "text": [
      "PythonPythonPythonPythonPythonPythonPythonPythonPythonPython\n"
     ]
    }
   ],
   "source": [
    "print(name * 10)"
   ]
  },
  {
   "cell_type": "code",
   "execution_count": 38,
   "id": "821ea8a2",
   "metadata": {},
   "outputs": [
    {
     "name": "stdout",
     "output_type": "stream",
     "text": [
      "Python Test\n"
     ]
    }
   ],
   "source": [
    "print(name+' '+\"Test\")"
   ]
  },
  {
   "cell_type": "code",
   "execution_count": 39,
   "id": "147b22c0",
   "metadata": {},
   "outputs": [
    {
     "data": {
      "text/plain": [
       "6"
      ]
     },
     "execution_count": 39,
     "metadata": {},
     "output_type": "execute_result"
    }
   ],
   "source": [
    "len(name)"
   ]
  },
  {
   "cell_type": "code",
   "execution_count": 40,
   "id": "179f1507",
   "metadata": {},
   "outputs": [
    {
     "name": "stdout",
     "output_type": "stream",
     "text": [
      "Teja\n"
     ]
    }
   ],
   "source": [
    "a = 'Teja'\n",
    "print(a)"
   ]
  },
  {
   "cell_type": "code",
   "execution_count": 41,
   "id": "49fba81d",
   "metadata": {},
   "outputs": [
    {
     "data": {
      "text/plain": [
       "4"
      ]
     },
     "execution_count": 41,
     "metadata": {},
     "output_type": "execute_result"
    }
   ],
   "source": [
    "len(a)"
   ]
  },
  {
   "cell_type": "code",
   "execution_count": 48,
   "id": "abcff743",
   "metadata": {},
   "outputs": [
    {
     "name": "stdout",
     "output_type": "stream",
     "text": [
      "The Best Language\n",
      "TeBs agae\n",
      "T sLgg\n",
      "TB ge\n",
      "Teag\n",
      "Tsg\n"
     ]
    }
   ],
   "source": [
    "b = 'The Best Language'\n",
    "print(b[::1])\n",
    "\n",
    "print(b[::2])\n",
    "\n",
    "print(b[::3])\n",
    "\n",
    "print(b[::4])\n",
    "\n",
    "print(b[::5])\n",
    "\n",
    "print(b[::6])"
   ]
  },
  {
   "cell_type": "code",
   "execution_count": 50,
   "id": "b37a4146",
   "metadata": {},
   "outputs": [
    {
     "name": "stdout",
     "output_type": "stream",
     "text": [
      "Hello World\n"
     ]
    }
   ],
   "source": [
    "var = 'Hello World'\n",
    "print(var)"
   ]
  },
  {
   "cell_type": "code",
   "execution_count": 52,
   "id": "57c08be3",
   "metadata": {},
   "outputs": [
    {
     "name": "stdout",
     "output_type": "stream",
     "text": [
      "STRING: Hello World Python\n"
     ]
    }
   ],
   "source": [
    "print(\"STRING: \"+var+' Python')"
   ]
  },
  {
   "cell_type": "code",
   "execution_count": 53,
   "id": "d65e75de",
   "metadata": {},
   "outputs": [
    {
     "name": "stdout",
     "output_type": "stream",
     "text": [
      "My name is Daripineni Teja and my age is 21\n"
     ]
    }
   ],
   "source": [
    "statement = \"\"\"My name is Daripineni Teja and my age is 21\"\"\"\n",
    "print(statement)"
   ]
  },
  {
   "cell_type": "code",
   "execution_count": 54,
   "id": "497ac854",
   "metadata": {},
   "outputs": [
    {
     "name": "stdout",
     "output_type": "stream",
     "text": [
      "<class 'str'>\n"
     ]
    }
   ],
   "source": [
    "print(type(statement))"
   ]
  },
  {
   "cell_type": "code",
   "execution_count": 55,
   "id": "8dcd68ff",
   "metadata": {},
   "outputs": [
    {
     "name": "stdout",
     "output_type": "stream",
     "text": [
      "Daripineni teja\n"
     ]
    }
   ],
   "source": [
    "Name  = \"Daripineni Teja\"\n",
    "print(Name.capitalize())"
   ]
  },
  {
   "cell_type": "code",
   "execution_count": 56,
   "id": "83b9fb1f",
   "metadata": {},
   "outputs": [
    {
     "name": "stdout",
     "output_type": "stream",
     "text": [
      "DARIPINENI TEJA\n"
     ]
    }
   ],
   "source": [
    "print(Name.upper())"
   ]
  },
  {
   "cell_type": "code",
   "execution_count": 57,
   "id": "03a07c62",
   "metadata": {},
   "outputs": [
    {
     "name": "stdout",
     "output_type": "stream",
     "text": [
      "daripineni teja\n"
     ]
    }
   ],
   "source": [
    "print(Name.lower())"
   ]
  },
  {
   "cell_type": "code",
   "execution_count": 58,
   "id": "6ffb6399",
   "metadata": {},
   "outputs": [
    {
     "name": "stdout",
     "output_type": "stream",
     "text": [
      "dARIPINENI tEJA\n"
     ]
    }
   ],
   "source": [
    "print(Name.swapcase())"
   ]
  },
  {
   "cell_type": "code",
   "execution_count": null,
   "id": "9565db5b",
   "metadata": {},
   "outputs": [],
   "source": []
  },
  {
   "cell_type": "code",
   "execution_count": null,
   "id": "b83e49f5",
   "metadata": {},
   "outputs": [],
   "source": []
  }
 ],
 "metadata": {
  "kernelspec": {
   "display_name": "Python 3 (ipykernel)",
   "language": "python",
   "name": "python3"
  },
  "language_info": {
   "codemirror_mode": {
    "name": "ipython",
    "version": 3
   },
   "file_extension": ".py",
   "mimetype": "text/x-python",
   "name": "python",
   "nbconvert_exporter": "python",
   "pygments_lexer": "ipython3",
   "version": "3.11.5"
  }
 },
 "nbformat": 4,
 "nbformat_minor": 5
}
