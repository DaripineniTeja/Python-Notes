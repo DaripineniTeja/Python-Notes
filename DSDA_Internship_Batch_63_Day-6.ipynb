{
 "cells": [
  {
   "cell_type": "markdown",
   "id": "9abb20cc",
   "metadata": {},
   "source": [
    "# STRINGS"
   ]
  },
  {
   "cell_type": "code",
   "execution_count": 5,
   "id": "f9af2fd3",
   "metadata": {},
   "outputs": [
    {
     "name": "stdout",
     "output_type": "stream",
     "text": [
      "TejaNaidu099789\n",
      "True\n"
     ]
    }
   ],
   "source": [
    "Num = \"TejaNaidu099789\"\n",
    "print(Num)\n",
    "print(Num.isalnum())"
   ]
  },
  {
   "cell_type": "code",
   "execution_count": 12,
   "id": "b9b1e7e2",
   "metadata": {},
   "outputs": [
    {
     "name": "stdout",
     "output_type": "stream",
     "text": [
      "Tejanaidu\n",
      "True\n"
     ]
    }
   ],
   "source": [
    "Num1 = \"Tejanaidu\"\n",
    "print(Num1)\n",
    "print(Num1.isalpha())"
   ]
  },
  {
   "cell_type": "code",
   "execution_count": 15,
   "id": "781d8351",
   "metadata": {},
   "outputs": [
    {
     "name": "stdout",
     "output_type": "stream",
     "text": [
      "123456tbbkj\n",
      "True\n"
     ]
    }
   ],
   "source": [
    "Num2 = \"123456tbbkj\"\n",
    "print(Num2)\n",
    "print(Num2.isalnum())"
   ]
  },
  {
   "cell_type": "code",
   "execution_count": 18,
   "id": "d5039c85",
   "metadata": {},
   "outputs": [
    {
     "name": "stdout",
     "output_type": "stream",
     "text": [
      "What are you doing you are are is are\n",
      "<class 'str'>\n"
     ]
    }
   ],
   "source": [
    "sentences = \"What are you doing you are are is are\"\n",
    "print(sentences)\n",
    "print(type(sentences))"
   ]
  },
  {
   "cell_type": "code",
   "execution_count": 19,
   "id": "c50edc7e",
   "metadata": {},
   "outputs": [
    {
     "name": "stdout",
     "output_type": "stream",
     "text": [
      "What is you doing you is is is is\n"
     ]
    }
   ],
   "source": [
    "print(sentences.replace('are','is'))"
   ]
  },
  {
   "cell_type": "code",
   "execution_count": 25,
   "id": "8f83ffaa",
   "metadata": {},
   "outputs": [
    {
     "name": "stdout",
     "output_type": "stream",
     "text": [
      "What is you doing you is are is are\n"
     ]
    }
   ],
   "source": [
    "print(sentences.replace('are','is',2))"
   ]
  },
  {
   "cell_type": "code",
   "execution_count": 29,
   "id": "4f2600bb",
   "metadata": {},
   "outputs": [
    {
     "name": "stdout",
     "output_type": "stream",
     "text": [
      "W:h:a:t: :a:r:e: :y:o:u: :d:o:i:n:g: :y:o:u: :a:r:e: :a:r:e: :i:s: :a:r:e\n"
     ]
    }
   ],
   "source": [
    "print(':'.join(sentences))"
   ]
  },
  {
   "cell_type": "code",
   "execution_count": 30,
   "id": "19dc27f5",
   "metadata": {},
   "outputs": [
    {
     "name": "stdout",
     "output_type": "stream",
     "text": [
      "                    Teja             \n"
     ]
    }
   ],
   "source": [
    "sen = \"                    Teja             \"\n",
    "print(sen)"
   ]
  },
  {
   "cell_type": "code",
   "execution_count": 32,
   "id": "cc7d7718",
   "metadata": {},
   "outputs": [
    {
     "name": "stdout",
     "output_type": "stream",
     "text": [
      "Teja\n"
     ]
    }
   ],
   "source": [
    "print(sen.strip())"
   ]
  },
  {
   "cell_type": "code",
   "execution_count": 37,
   "id": "ada76767",
   "metadata": {},
   "outputs": [
    {
     "name": "stdout",
     "output_type": "stream",
     "text": [
      "['I', 'am', 'Teja']\n",
      "['I', 'am Teja']\n"
     ]
    }
   ],
   "source": [
    "split1 = \"I am Teja\"\n",
    "print(split1.split())\n",
    "print(split1.split(' ',1))"
   ]
  },
  {
   "cell_type": "code",
   "execution_count": 38,
   "id": "94a6bcdc",
   "metadata": {},
   "outputs": [
    {
     "name": "stdout",
     "output_type": "stream",
     "text": [
      "['Teja']\n"
     ]
    }
   ],
   "source": [
    "name = \"Teja\"\n",
    "print(name.strip().split())"
   ]
  },
  {
   "cell_type": "code",
   "execution_count": 41,
   "id": "e580ebdc",
   "metadata": {},
   "outputs": [
    {
     "name": "stdout",
     "output_type": "stream",
     "text": [
      "bhrrvbrhbvirbio: bkrhbvjk \n",
      "16\n"
     ]
    }
   ],
   "source": [
    "word = \"bhrrvbrhbvirbio: bkrhbvjk \"\n",
    "pos = word.find(' ')\n",
    "print(word)\n",
    "print(pos)"
   ]
  },
  {
   "cell_type": "code",
   "execution_count": 44,
   "id": "13ecd047",
   "metadata": {},
   "outputs": [
    {
     "name": "stdout",
     "output_type": "stream",
     "text": [
      "['h']\n",
      "bkrhbvjk \n"
     ]
    }
   ],
   "source": [
    "print([word[1]])\n",
    "\n",
    "rem = str(word[pos+1: ])\n",
    "print(rem)"
   ]
  },
  {
   "cell_type": "markdown",
   "id": "ae47486b",
   "metadata": {},
   "source": [
    "# Tuple Assignment"
   ]
  },
  {
   "cell_type": "code",
   "execution_count": 47,
   "id": "2a4c7ae6",
   "metadata": {},
   "outputs": [
    {
     "name": "stdout",
     "output_type": "stream",
     "text": [
      "Teja Naidu Daripineni\n",
      "Naidu Teja Daripineni\n"
     ]
    }
   ],
   "source": [
    "x = \"Teja\"\n",
    "y = \"Naidu\"\n",
    "z = \"Daripineni\"\n",
    "print(x,y,z)\n",
    "tem = x\n",
    "x = y\n",
    "y = tem\n",
    "print(x,y,z)"
   ]
  },
  {
   "cell_type": "code",
   "execution_count": 49,
   "id": "e73253cb",
   "metadata": {},
   "outputs": [
    {
     "name": "stdout",
     "output_type": "stream",
     "text": [
      "3 2\n"
     ]
    }
   ],
   "source": [
    "x = 3\n",
    "y = 2\n",
    "\n",
    "print(x,y)\n",
    "(x,y)=(y,x)"
   ]
  },
  {
   "cell_type": "code",
   "execution_count": 51,
   "id": "ed7eb27e",
   "metadata": {},
   "outputs": [
    {
     "name": "stdout",
     "output_type": "stream",
     "text": [
      "2 3\n"
     ]
    }
   ],
   "source": [
    "print(x,y)"
   ]
  },
  {
   "cell_type": "markdown",
   "id": "4dee5dc1",
   "metadata": {},
   "source": [
    "# Circulate the values of n Variables"
   ]
  },
  {
   "cell_type": "code",
   "execution_count": 54,
   "id": "3fd5caa5",
   "metadata": {},
   "outputs": [
    {
     "name": "stdout",
     "output_type": "stream",
     "text": [
      "Enter the list: 258515\n",
      "['2', '5', '8', '5', '1', '5']\n"
     ]
    },
    {
     "data": {
      "text/plain": [
       "6"
      ]
     },
     "execution_count": 54,
     "metadata": {},
     "output_type": "execute_result"
    }
   ],
   "source": [
    "a =  list(input(\"Enter the list: \"))\n",
    "print(a)\n",
    "len(a)"
   ]
  },
  {
   "cell_type": "code",
   "execution_count": 55,
   "id": "e223518b",
   "metadata": {},
   "outputs": [
    {
     "name": "stdout",
     "output_type": "stream",
     "text": [
      "['5', '8', '5', '1', '5', '2']\n",
      "['8', '5', '1', '5', '2', '5']\n",
      "['5', '1', '5', '2', '5', '8']\n",
      "['1', '5', '2', '5', '8', '5']\n",
      "['5', '2', '5', '8', '5', '1']\n"
     ]
    }
   ],
   "source": [
    "for i in range(1,len(a),1):\n",
    "    print(a[i:] + a[:i])"
   ]
  },
  {
   "cell_type": "code",
   "execution_count": null,
   "id": "d6547a67",
   "metadata": {},
   "outputs": [],
   "source": []
  },
  {
   "cell_type": "code",
   "execution_count": null,
   "id": "d0477c62",
   "metadata": {},
   "outputs": [],
   "source": []
  },
  {
   "cell_type": "code",
   "execution_count": null,
   "id": "6b02e549",
   "metadata": {},
   "outputs": [],
   "source": []
  },
  {
   "cell_type": "code",
   "execution_count": null,
   "id": "9daaf398",
   "metadata": {},
   "outputs": [],
   "source": []
  },
  {
   "cell_type": "code",
   "execution_count": null,
   "id": "5808758c",
   "metadata": {},
   "outputs": [],
   "source": []
  },
  {
   "cell_type": "code",
   "execution_count": null,
   "id": "b71c3890",
   "metadata": {},
   "outputs": [],
   "source": []
  },
  {
   "cell_type": "code",
   "execution_count": null,
   "id": "8a29e794",
   "metadata": {},
   "outputs": [],
   "source": []
  },
  {
   "cell_type": "code",
   "execution_count": null,
   "id": "d3225ee2",
   "metadata": {},
   "outputs": [],
   "source": []
  }
 ],
 "metadata": {
  "kernelspec": {
   "display_name": "Python 3 (ipykernel)",
   "language": "python",
   "name": "python3"
  },
  "language_info": {
   "codemirror_mode": {
    "name": "ipython",
    "version": 3
   },
   "file_extension": ".py",
   "mimetype": "text/x-python",
   "name": "python",
   "nbconvert_exporter": "python",
   "pygments_lexer": "ipython3",
   "version": "3.11.5"
  }
 },
 "nbformat": 4,
 "nbformat_minor": 5
}
