{
 "cells": [
  {
   "cell_type": "markdown",
   "id": "c305db99",
   "metadata": {},
   "source": [
    "# FOR LOOPS"
   ]
  },
  {
   "cell_type": "code",
   "execution_count": 4,
   "id": "99862f68",
   "metadata": {},
   "outputs": [
    {
     "name": "stdout",
     "output_type": "stream",
     "text": [
      "Current Snacks:  Chips\n",
      "Current Snacks:  Burger\n",
      "Current Snacks:  Pizza\n",
      "Current Snacks:  KFC\n",
      "Good Day\n"
     ]
    }
   ],
   "source": [
    "snacks  = ['Chips','Burger','Pizza','KFC']\n",
    "\n",
    "for snack in snacks:\n",
    "    print(\"Current Snacks: \",snack)\n",
    "print('Good Day')"
   ]
  },
  {
   "cell_type": "code",
   "execution_count": 5,
   "id": "e3d1dc52",
   "metadata": {},
   "outputs": [
    {
     "name": "stdout",
     "output_type": "stream",
     "text": [
      "Current Snack:  Pizza\n",
      "Current Snack:  Burger\n",
      "Current Snack:  KFC\n",
      "Current Snack:  Chips\n"
     ]
    }
   ],
   "source": [
    "snacks  = ['Pizza','Burger','KFC','Chips']\n",
    "\n",
    "for i in snacks:\n",
    "    print(\"Current Snack: \",i)"
   ]
  },
  {
   "cell_type": "code",
   "execution_count": 6,
   "id": "25e39e01",
   "metadata": {},
   "outputs": [
    {
     "data": {
      "text/plain": [
       "range(0, 5)"
      ]
     },
     "execution_count": 6,
     "metadata": {},
     "output_type": "execute_result"
    }
   ],
   "source": [
    "range(0,5)"
   ]
  },
  {
   "cell_type": "code",
   "execution_count": 8,
   "id": "0ca6970f",
   "metadata": {},
   "outputs": [
    {
     "data": {
      "text/plain": [
       "[0, 1, 2, 3, 4, 5, 6, 7, 8, 9, 10, 11, 12, 13, 14]"
      ]
     },
     "execution_count": 8,
     "metadata": {},
     "output_type": "execute_result"
    }
   ],
   "source": [
    "a = list(range(0,15))\n",
    "a"
   ]
  },
  {
   "cell_type": "code",
   "execution_count": 9,
   "id": "559f5830",
   "metadata": {},
   "outputs": [
    {
     "data": {
      "text/plain": [
       "(0, 1, 2, 3, 4, 5, 6, 7, 8, 9, 10, 11, 12, 13, 14)"
      ]
     },
     "execution_count": 9,
     "metadata": {},
     "output_type": "execute_result"
    }
   ],
   "source": [
    " a = tuple(range(0,15))\n",
    "a"
   ]
  },
  {
   "cell_type": "code",
   "execution_count": 13,
   "id": "811e49fd",
   "metadata": {},
   "outputs": [
    {
     "name": "stdout",
     "output_type": "stream",
     "text": [
      "1\n",
      "2\n",
      "3\n",
      "4\n",
      "5\n",
      "6\n",
      "7\n",
      "8\n",
      "9\n"
     ]
    }
   ],
   "source": [
    "for i in range(1,10,1):\n",
    "    print(i)"
   ]
  },
  {
   "cell_type": "code",
   "execution_count": 14,
   "id": "2e819850",
   "metadata": {},
   "outputs": [
    {
     "name": "stdout",
     "output_type": "stream",
     "text": [
      "20 hours of Class1:  1\n",
      "20 hours of Class1:  2\n",
      "20 hours of Class1:  3\n",
      "20 hours of Class1:  4\n",
      "20 hours of Class1:  5\n",
      "20 hours of Class1:  6\n",
      "20 hours of Class1:  7\n",
      "20 hours of Class1:  8\n",
      "20 hours of Class1:  9\n",
      "20 hours of Class1:  10\n",
      "20 hours of Class1:  11\n",
      "20 hours of Class1:  12\n",
      "20 hours of Class1:  13\n",
      "20 hours of Class1:  14\n"
     ]
    }
   ],
   "source": [
    "for i in range(1,15):\n",
    "    print(\"20 hours of Class1: \",i)"
   ]
  },
  {
   "cell_type": "code",
   "execution_count": 15,
   "id": "82e9c035",
   "metadata": {},
   "outputs": [
    {
     "name": "stdout",
     "output_type": "stream",
     "text": [
      "Even Number:  0\n",
      "Even Number:  2\n",
      "Even Number:  4\n",
      "Even Number:  6\n",
      "Even Number:  8\n",
      "Even Number:  10\n",
      "Even Number:  12\n",
      "Even Number:  14\n"
     ]
    }
   ],
   "source": [
    "for num in range(0,15,2):\n",
    "    print(\"Even Number: \",num)"
   ]
  },
  {
   "cell_type": "code",
   "execution_count": 18,
   "id": "d2ee3278",
   "metadata": {},
   "outputs": [
    {
     "name": "stdout",
     "output_type": "stream",
     "text": [
      "10\n"
     ]
    }
   ],
   "source": [
    "num = [2,3,5]\n",
    "sum = 0\n",
    "for numbers in num:\n",
    "    sum += numbers\n",
    "print(sum)"
   ]
  },
  {
   "cell_type": "code",
   "execution_count": 20,
   "id": "f8262b7c",
   "metadata": {},
   "outputs": [
    {
     "name": "stdout",
     "output_type": "stream",
     "text": [
      "[3, 4, 5, 6, 7, 8, 22, 47, 86]\n"
     ]
    }
   ],
   "source": [
    "numbers = [1,2,3,4,5,6,20,45,84]\n",
    "get_sum = [i+2 for i in numbers]\n",
    "print(get_sum)"
   ]
  },
  {
   "cell_type": "code",
   "execution_count": 22,
   "id": "98e0017a",
   "metadata": {},
   "outputs": [
    {
     "data": {
      "text/plain": [
       "[4, 6]"
      ]
     },
     "execution_count": 22,
     "metadata": {},
     "output_type": "execute_result"
    }
   ],
   "source": [
    "number = [1,3,5,8]\n",
    "sum1 = [i+3 for i in number if i < 5]\n",
    "sum1"
   ]
  },
  {
   "cell_type": "code",
   "execution_count": 24,
   "id": "8e152d71",
   "metadata": {},
   "outputs": [
    {
     "name": "stdout",
     "output_type": "stream",
     "text": [
      "Enter Number: 5\n",
      "FACTORIAL:  120\n"
     ]
    }
   ],
   "source": [
    "num = int(input(\"Enter Number: \"))\n",
    "fact = 1\n",
    "\n",
    "if num < 0:\n",
    "    print(\"Number must be Positive\")\n",
    "elif num == 0:\n",
    "    print(\"Factorial: 1\")\n",
    "else:\n",
    "    for i in range(1,num+1):\n",
    "        fact = fact * i\n",
    "    print(\"FACTORIAL: \",fact)\n",
    "    "
   ]
  },
  {
   "cell_type": "markdown",
   "id": "b670df14",
   "metadata": {},
   "source": [
    "# PASS"
   ]
  },
  {
   "cell_type": "code",
   "execution_count": 25,
   "id": "bca164c7",
   "metadata": {},
   "outputs": [],
   "source": [
    "names = ['Teja','ARavind','Nagaraju','Gayathri']\n",
    "for i in names:\n",
    "    pass"
   ]
  },
  {
   "cell_type": "markdown",
   "id": "be5cb92a",
   "metadata": {},
   "source": [
    "# CONTINUE"
   ]
  },
  {
   "cell_type": "code",
   "execution_count": 26,
   "id": "75408400",
   "metadata": {},
   "outputs": [
    {
     "name": "stdout",
     "output_type": "stream",
     "text": [
      "My name is  Teja\n",
      "My name is  ARavind\n",
      "My name is  Nagaraju\n",
      "My name is  Gayathri\n"
     ]
    }
   ],
   "source": [
    "names = ['Teja','ARavind','Nagaraju','Gayathri']\n",
    "\n",
    "for i in names:\n",
    "    if len(i) == 3:\n",
    "        continue\n",
    "    print('My name is ',i)"
   ]
  },
  {
   "cell_type": "markdown",
   "id": "0a6e9454",
   "metadata": {},
   "source": [
    "# BREAK"
   ]
  },
  {
   "cell_type": "code",
   "execution_count": 33,
   "id": "8a162b4d",
   "metadata": {},
   "outputs": [
    {
     "name": "stdout",
     "output_type": "stream",
     "text": [
      "Teja\n",
      "ARavind\n",
      "Nagaraju\n",
      "Gayathri\n"
     ]
    }
   ],
   "source": [
    "names = ['Teja','ARavind','Nagaraju','Gayathri']\n",
    "\n",
    "for i in names:\n",
    "    if len(i) == 6:\n",
    "        break\n",
    "    print(i)"
   ]
  },
  {
   "cell_type": "code",
   "execution_count": 35,
   "id": "cfea58c7",
   "metadata": {},
   "outputs": [
    {
     "name": "stdout",
     "output_type": "stream",
     "text": [
      "1\n",
      "2\n",
      "3\n",
      "4\n",
      "5\n",
      "6\n",
      "7\n",
      "8\n"
     ]
    }
   ],
   "source": [
    "for i in range(1,11):\n",
    "    if i == 9:\n",
    "        break\n",
    "    print(i)"
   ]
  },
  {
   "cell_type": "code",
   "execution_count": null,
   "id": "77e3bf73",
   "metadata": {},
   "outputs": [],
   "source": []
  },
  {
   "cell_type": "code",
   "execution_count": null,
   "id": "fc4c0c2e",
   "metadata": {},
   "outputs": [],
   "source": []
  },
  {
   "cell_type": "code",
   "execution_count": null,
   "id": "0c1c4bf5",
   "metadata": {},
   "outputs": [],
   "source": []
  },
  {
   "cell_type": "code",
   "execution_count": null,
   "id": "7eb7a08f",
   "metadata": {},
   "outputs": [],
   "source": []
  },
  {
   "cell_type": "code",
   "execution_count": null,
   "id": "d5dd16c9",
   "metadata": {},
   "outputs": [],
   "source": []
  },
  {
   "cell_type": "code",
   "execution_count": null,
   "id": "bfaaa981",
   "metadata": {},
   "outputs": [],
   "source": []
  },
  {
   "cell_type": "code",
   "execution_count": null,
   "id": "a44e8fd5",
   "metadata": {},
   "outputs": [],
   "source": []
  },
  {
   "cell_type": "code",
   "execution_count": null,
   "id": "907f7d0a",
   "metadata": {},
   "outputs": [],
   "source": []
  }
 ],
 "metadata": {
  "kernelspec": {
   "display_name": "Python 3 (ipykernel)",
   "language": "python",
   "name": "python3"
  },
  "language_info": {
   "codemirror_mode": {
    "name": "ipython",
    "version": 3
   },
   "file_extension": ".py",
   "mimetype": "text/x-python",
   "name": "python",
   "nbconvert_exporter": "python",
   "pygments_lexer": "ipython3",
   "version": "3.11.5"
  }
 },
 "nbformat": 4,
 "nbformat_minor": 5
}
