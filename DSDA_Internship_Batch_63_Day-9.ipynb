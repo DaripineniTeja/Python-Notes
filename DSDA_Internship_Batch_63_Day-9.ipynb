{
 "cells": [
  {
   "cell_type": "code",
   "execution_count": 2,
   "id": "aaac1ae2",
   "metadata": {},
   "outputs": [
    {
     "name": "stdout",
     "output_type": "stream",
     "text": [
      "List doest not contain Even Numbers\n"
     ]
    }
   ],
   "source": [
    "list1 = [11,21,55,39,45,67,89,75,79]\n",
    "\n",
    "for num in list1:\n",
    "    if num % 2 == 0:\n",
    "        print(\"List contains Even Numbers\")\n",
    "else:\n",
    "    print(\"List doest not contain Even Numbers\")"
   ]
  },
  {
   "cell_type": "code",
   "execution_count": 4,
   "id": "83ad04ff",
   "metadata": {},
   "outputs": [
    {
     "data": {
      "text/plain": [
       "[(0, 'Teja'), (1, 'Aravind'), (2, 'Nagaraju'), (3, 'Gayathri')]"
      ]
     },
     "execution_count": 4,
     "metadata": {},
     "output_type": "execute_result"
    }
   ],
   "source": [
    "# Enumurate the Objestd of a list with Sequential numbers\n",
    "\n",
    "names = ['Teja','Aravind','Nagaraju','Gayathri']\n",
    "\n",
    "list(enumerate(names))"
   ]
  },
  {
   "cell_type": "code",
   "execution_count": 6,
   "id": "5773bc7c",
   "metadata": {},
   "outputs": [
    {
     "name": "stdout",
     "output_type": "stream",
     "text": [
      "Index is 0 and values oif Index is Teja\n",
      "Index is 1 and values oif Index is Aravind\n",
      "Index is 2 and values oif Index is Nagaraju\n",
      "Index is 3 and values oif Index is Gayathri\n"
     ]
    }
   ],
   "source": [
    "names  = ['Teja','Aravind','Nagaraju','Gayathri']\n",
    "\n",
    "for i,j in enumerate(names):\n",
    "    print('Index is {0} and values oif Index is {1}'.format(i,j))"
   ]
  },
  {
   "cell_type": "markdown",
   "id": "41f7814f",
   "metadata": {},
   "source": [
    "# While Loop"
   ]
  },
  {
   "cell_type": "code",
   "execution_count": 1,
   "id": "1dea1079",
   "metadata": {},
   "outputs": [
    {
     "name": "stdout",
     "output_type": "stream",
     "text": [
      "Number is  0\n",
      "Number is  1\n",
      "Number is  2\n",
      "Number is  3\n",
      "Number is  4\n",
      "Number is  5\n",
      "Number is  6\n",
      "Number is  7\n",
      "Number is  8\n",
      "Number is  9\n",
      "Number is  10\n"
     ]
    }
   ],
   "source": [
    "i = 0 \n",
    "while i <= 10:\n",
    "    print(\"Number is \",i)\n",
    "    i = i+1"
   ]
  },
  {
   "cell_type": "code",
   "execution_count": 2,
   "id": "a7a3ad80",
   "metadata": {},
   "outputs": [],
   "source": [
    "i = 0\n",
    "while i < 10:\n",
    "    pass\n",
    "    i = i+1"
   ]
  },
  {
   "cell_type": "code",
   "execution_count": 3,
   "id": "0065eb86",
   "metadata": {},
   "outputs": [
    {
     "name": "stdout",
     "output_type": "stream",
     "text": [
      "Number is  1\n",
      "Number is  2\n",
      "Number is  3\n",
      "Number is  4\n",
      "Number is  6\n",
      "Number is  7\n",
      "Number is  8\n",
      "Number is  9\n",
      "Number is  10\n"
     ]
    }
   ],
   "source": [
    "i = 0\n",
    "while i < 10:\n",
    "    i = i + 1\n",
    "    if i == 5:\n",
    "        continue\n",
    "    print('Number is ',i)"
   ]
  },
  {
   "cell_type": "code",
   "execution_count": 4,
   "id": "479890d4",
   "metadata": {},
   "outputs": [
    {
     "name": "stdout",
     "output_type": "stream",
     "text": [
      "Number is  1\n",
      "Number is  2\n",
      "Number is  3\n",
      "Number is  4\n"
     ]
    }
   ],
   "source": [
    "i = 0\n",
    "while i < 10:\n",
    "    i = i + 1\n",
    "    if i == 5:\n",
    "        break\n",
    "    print('Number is ',i)"
   ]
  },
  {
   "cell_type": "code",
   "execution_count": 5,
   "id": "eb13ab89",
   "metadata": {},
   "outputs": [
    {
     "name": "stdout",
     "output_type": "stream",
     "text": [
      "0\n",
      "1\n",
      "2\n",
      "3\n",
      "4\n",
      "5\n",
      "6\n",
      "7\n",
      "8\n",
      "9\n",
      "Loop Ended\n"
     ]
    }
   ],
   "source": [
    "i = 0\n",
    "while i < 10:\n",
    "    print(i)\n",
    "    i = i+1\n",
    "else:\n",
    "    print('Loop Ended')"
   ]
  },
  {
   "cell_type": "markdown",
   "id": "996fa71b",
   "metadata": {},
   "source": [
    "# NESTED LOOPS "
   ]
  },
  {
   "cell_type": "markdown",
   "id": "68f81c4a",
   "metadata": {},
   "source": [
    "Here we can use loop inside a loop more than one times"
   ]
  },
  {
   "cell_type": "code",
   "execution_count": 11,
   "id": "8a7ad20c",
   "metadata": {},
   "outputs": [
    {
     "name": "stdout",
     "output_type": "stream",
     "text": [
      "[[1, 2, 3, 4, 5], [6, 7, 8, 9, 0]] \n",
      "\n",
      "Square of 1 is  1\n",
      "Square of 2 is  4\n",
      "Square of 3 is  9\n",
      "Square of 4 is  16\n",
      "Square of 5 is  25\n",
      "Square of 6 is  36\n",
      "Square of 7 is  49\n",
      "Square of 8 is  64\n",
      "Square of 9 is  81\n",
      "Square of 0 is  0\n"
     ]
    }
   ],
   "source": [
    "list1 = [[1,2,3,4,5],[6,7,8,9,0]]\n",
    "print(list1,'\\n')\n",
    "\n",
    "for i in list1:\n",
    "    for j in i:\n",
    "        print('Square of',j,'is ',j ** 2)"
   ]
  },
  {
   "cell_type": "code",
   "execution_count": null,
   "id": "e9d4eedc",
   "metadata": {},
   "outputs": [],
   "source": []
  },
  {
   "cell_type": "markdown",
   "id": "c79e87d8",
   "metadata": {},
   "source": [
    "# FUNCTIONS"
   ]
  },
  {
   "cell_type": "code",
   "execution_count": 13,
   "id": "c5541d63",
   "metadata": {},
   "outputs": [
    {
     "name": "stdout",
     "output_type": "stream",
     "text": [
      "Hello\n"
     ]
    }
   ],
   "source": [
    "def sayhello():\n",
    "    print(\"Hello\")\n",
    "sayhello()"
   ]
  },
  {
   "cell_type": "code",
   "execution_count": 21,
   "id": "5fd66b79",
   "metadata": {},
   "outputs": [
    {
     "name": "stdout",
     "output_type": "stream",
     "text": [
      "Hi My name is Teja i am 21 years old and my salary is 50000\n"
     ]
    }
   ],
   "source": [
    "def hello(name,age,sal):\n",
    "    print(\"Hi My name is\",name,\"i am\",age,'years old and my salary is',sal)\n",
    "hello('Teja',21,50000)"
   ]
  },
  {
   "cell_type": "code",
   "execution_count": 23,
   "id": "1454b18d",
   "metadata": {},
   "outputs": [
    {
     "data": {
      "text/plain": [
       "7"
      ]
     },
     "execution_count": 23,
     "metadata": {},
     "output_type": "execute_result"
    }
   ],
   "source": [
    "def add(a,b):\n",
    "    return a+b\n",
    "add(2,5)"
   ]
  },
  {
   "cell_type": "code",
   "execution_count": null,
   "id": "27daa3d7",
   "metadata": {},
   "outputs": [],
   "source": []
  }
 ],
 "metadata": {
  "kernelspec": {
   "display_name": "Python 3 (ipykernel)",
   "language": "python",
   "name": "python3"
  },
  "language_info": {
   "codemirror_mode": {
    "name": "ipython",
    "version": 3
   },
   "file_extension": ".py",
   "mimetype": "text/x-python",
   "name": "python",
   "nbconvert_exporter": "python",
   "pygments_lexer": "ipython3",
   "version": "3.11.5"
  }
 },
 "nbformat": 4,
 "nbformat_minor": 5
}
