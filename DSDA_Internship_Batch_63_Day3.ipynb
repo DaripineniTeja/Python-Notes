{
 "cells": [
  {
   "cell_type": "markdown",
   "id": "14f93cf1",
   "metadata": {},
   "source": [
    "# Identity Operators"
   ]
  },
  {
   "cell_type": "code",
   "execution_count": 2,
   "id": "21bb08aa",
   "metadata": {},
   "outputs": [
    {
     "name": "stderr",
     "output_type": "stream",
     "text": [
      "<>:1: SyntaxWarning: \"is\" with a literal. Did you mean \"==\"?\n",
      "<>:1: SyntaxWarning: \"is\" with a literal. Did you mean \"==\"?\n",
      "<>:1: SyntaxWarning: \"is\" with a literal. Did you mean \"==\"?\n",
      "<>:1: SyntaxWarning: \"is\" with a literal. Did you mean \"==\"?\n",
      "<>:1: SyntaxWarning: \"is\" with a literal. Did you mean \"==\"?\n",
      "<>:1: SyntaxWarning: \"is\" with a literal. Did you mean \"==\"?\n",
      "C:\\Users\\DARIPINENI TEJA\\AppData\\Local\\Temp\\ipykernel_2176\\1279145392.py:1: SyntaxWarning: \"is\" with a literal. Did you mean \"==\"?\n",
      "  't' is 't', 'a' is 't', 2 is 2\n",
      "C:\\Users\\DARIPINENI TEJA\\AppData\\Local\\Temp\\ipykernel_2176\\1279145392.py:1: SyntaxWarning: \"is\" with a literal. Did you mean \"==\"?\n",
      "  't' is 't', 'a' is 't', 2 is 2\n",
      "C:\\Users\\DARIPINENI TEJA\\AppData\\Local\\Temp\\ipykernel_2176\\1279145392.py:1: SyntaxWarning: \"is\" with a literal. Did you mean \"==\"?\n",
      "  't' is 't', 'a' is 't', 2 is 2\n"
     ]
    },
    {
     "data": {
      "text/plain": [
       "(True, False, True)"
      ]
     },
     "execution_count": 2,
     "metadata": {},
     "output_type": "execute_result"
    }
   ],
   "source": [
    "'t' is 't', 'a' is 't', 2 is 2"
   ]
  },
  {
   "cell_type": "code",
   "execution_count": 3,
   "id": "c6f1290d",
   "metadata": {},
   "outputs": [
    {
     "name": "stderr",
     "output_type": "stream",
     "text": [
      "<>:1: SyntaxWarning: \"is\" with a literal. Did you mean \"==\"?\n",
      "<>:1: SyntaxWarning: \"is\" with a literal. Did you mean \"==\"?\n",
      "<>:1: SyntaxWarning: \"is\" with a literal. Did you mean \"==\"?\n",
      "<>:1: SyntaxWarning: \"is\" with a literal. Did you mean \"==\"?\n",
      "C:\\Users\\DARIPINENI TEJA\\AppData\\Local\\Temp\\ipykernel_2176\\3312832014.py:1: SyntaxWarning: \"is\" with a literal. Did you mean \"==\"?\n",
      "  \"Teja\" is \"teja\",\"Aravind\" is \"Aravind\"\n",
      "C:\\Users\\DARIPINENI TEJA\\AppData\\Local\\Temp\\ipykernel_2176\\3312832014.py:1: SyntaxWarning: \"is\" with a literal. Did you mean \"==\"?\n",
      "  \"Teja\" is \"teja\",\"Aravind\" is \"Aravind\"\n"
     ]
    },
    {
     "data": {
      "text/plain": [
       "(False, True)"
      ]
     },
     "execution_count": 3,
     "metadata": {},
     "output_type": "execute_result"
    }
   ],
   "source": [
    "\"Teja\" is \"teja\",\"Aravind\" is \"Aravind\""
   ]
  },
  {
   "cell_type": "code",
   "execution_count": 7,
   "id": "30e8409f",
   "metadata": {},
   "outputs": [
    {
     "data": {
      "text/plain": [
       "(True, False, True, False)"
      ]
     },
     "execution_count": 7,
     "metadata": {},
     "output_type": "execute_result"
    }
   ],
   "source": [
    "True is True,False is True,False is False,True is False"
   ]
  },
  {
   "cell_type": "code",
   "execution_count": 8,
   "id": "1f0c7865",
   "metadata": {},
   "outputs": [
    {
     "name": "stderr",
     "output_type": "stream",
     "text": [
      "<>:1: SyntaxWarning: \"is\" with a literal. Did you mean \"==\"?\n",
      "<>:1: SyntaxWarning: \"is\" with a literal. Did you mean \"==\"?\n",
      "C:\\Users\\DARIPINENI TEJA\\AppData\\Local\\Temp\\ipykernel_2176\\1198638157.py:1: SyntaxWarning: \"is\" with a literal. Did you mean \"==\"?\n",
      "  'q' is 'q'\n"
     ]
    },
    {
     "data": {
      "text/plain": [
       "True"
      ]
     },
     "execution_count": 8,
     "metadata": {},
     "output_type": "execute_result"
    }
   ],
   "source": [
    "'q' is 'q'"
   ]
  },
  {
   "cell_type": "code",
   "execution_count": 9,
   "id": "9c361280",
   "metadata": {},
   "outputs": [
    {
     "name": "stderr",
     "output_type": "stream",
     "text": [
      "<>:1: SyntaxWarning: \"is not\" with a literal. Did you mean \"!=\"?\n",
      "<>:1: SyntaxWarning: \"is not\" with a literal. Did you mean \"!=\"?\n",
      "C:\\Users\\DARIPINENI TEJA\\AppData\\Local\\Temp\\ipykernel_2176\\4227981566.py:1: SyntaxWarning: \"is not\" with a literal. Did you mean \"!=\"?\n",
      "  \"Teja\" is not \"teja\"\n"
     ]
    },
    {
     "data": {
      "text/plain": [
       "True"
      ]
     },
     "execution_count": 9,
     "metadata": {},
     "output_type": "execute_result"
    }
   ],
   "source": [
    "\"Teja\" is not \"teja\""
   ]
  },
  {
   "cell_type": "code",
   "execution_count": 10,
   "id": "ff6e6b9b",
   "metadata": {},
   "outputs": [
    {
     "name": "stderr",
     "output_type": "stream",
     "text": [
      "<>:1: SyntaxWarning: \"is not\" with a literal. Did you mean \"!=\"?\n",
      "<>:1: SyntaxWarning: \"is not\" with a literal. Did you mean \"!=\"?\n",
      "C:\\Users\\DARIPINENI TEJA\\AppData\\Local\\Temp\\ipykernel_2176\\459295782.py:1: SyntaxWarning: \"is not\" with a literal. Did you mean \"!=\"?\n",
      "  \"Teja\" is not \"Teja\"\n"
     ]
    },
    {
     "data": {
      "text/plain": [
       "False"
      ]
     },
     "execution_count": 10,
     "metadata": {},
     "output_type": "execute_result"
    }
   ],
   "source": [
    "\"Teja\" is not \"Teja\""
   ]
  },
  {
   "cell_type": "code",
   "execution_count": 11,
   "id": "5177baf3",
   "metadata": {},
   "outputs": [
    {
     "name": "stderr",
     "output_type": "stream",
     "text": [
      "<>:1: SyntaxWarning: \"is not\" with a literal. Did you mean \"!=\"?\n",
      "<>:1: SyntaxWarning: \"is not\" with a literal. Did you mean \"!=\"?\n",
      "C:\\Users\\DARIPINENI TEJA\\AppData\\Local\\Temp\\ipykernel_2176\\1724177859.py:1: SyntaxWarning: \"is not\" with a literal. Did you mean \"!=\"?\n",
      "  'q' is not 'o'\n"
     ]
    },
    {
     "data": {
      "text/plain": [
       "True"
      ]
     },
     "execution_count": 11,
     "metadata": {},
     "output_type": "execute_result"
    }
   ],
   "source": [
    "'q' is not 'o'"
   ]
  },
  {
   "cell_type": "code",
   "execution_count": 12,
   "id": "8df651d2",
   "metadata": {},
   "outputs": [
    {
     "name": "stderr",
     "output_type": "stream",
     "text": [
      "<>:1: SyntaxWarning: \"is not\" with a literal. Did you mean \"!=\"?\n",
      "<>:1: SyntaxWarning: \"is not\" with a literal. Did you mean \"!=\"?\n",
      "C:\\Users\\DARIPINENI TEJA\\AppData\\Local\\Temp\\ipykernel_2176\\3486394929.py:1: SyntaxWarning: \"is not\" with a literal. Did you mean \"!=\"?\n",
      "  8937 is not 389\n"
     ]
    },
    {
     "data": {
      "text/plain": [
       "True"
      ]
     },
     "execution_count": 12,
     "metadata": {},
     "output_type": "execute_result"
    }
   ],
   "source": [
    "8937 is not 389"
   ]
  },
  {
   "cell_type": "code",
   "execution_count": 13,
   "id": "6ca3bd70",
   "metadata": {},
   "outputs": [
    {
     "data": {
      "text/plain": [
       "False"
      ]
     },
     "execution_count": 13,
     "metadata": {},
     "output_type": "execute_result"
    }
   ],
   "source": [
    "True is not True"
   ]
  },
  {
   "cell_type": "markdown",
   "id": "4c3a6499",
   "metadata": {},
   "source": [
    "# Membership Operators"
   ]
  },
  {
   "cell_type": "code",
   "execution_count": 14,
   "id": "e952674c",
   "metadata": {},
   "outputs": [
    {
     "data": {
      "text/plain": [
       "False"
      ]
     },
     "execution_count": 14,
     "metadata": {},
     "output_type": "execute_result"
    }
   ],
   "source": [
    "\"Teja\" in 'T'"
   ]
  },
  {
   "cell_type": "code",
   "execution_count": 15,
   "id": "c1f7ca7e",
   "metadata": {},
   "outputs": [
    {
     "data": {
      "text/plain": [
       "True"
      ]
     },
     "execution_count": 15,
     "metadata": {},
     "output_type": "execute_result"
    }
   ],
   "source": [
    "'T' in \"Teja\""
   ]
  },
  {
   "cell_type": "code",
   "execution_count": 17,
   "id": "8abb2cd2",
   "metadata": {},
   "outputs": [
    {
     "data": {
      "text/plain": [
       "True"
      ]
     },
     "execution_count": 17,
     "metadata": {},
     "output_type": "execute_result"
    }
   ],
   "source": [
    "'D' in \"Digitmg\""
   ]
  },
  {
   "cell_type": "code",
   "execution_count": 18,
   "id": "68c42c64",
   "metadata": {},
   "outputs": [
    {
     "data": {
      "text/plain": [
       "True"
      ]
     },
     "execution_count": 18,
     "metadata": {},
     "output_type": "execute_result"
    }
   ],
   "source": [
    "'T' not in \"Aravind\""
   ]
  },
  {
   "cell_type": "code",
   "execution_count": 19,
   "id": "51861a8d",
   "metadata": {},
   "outputs": [
    {
     "data": {
      "text/plain": [
       "False"
      ]
     },
     "execution_count": 19,
     "metadata": {},
     "output_type": "execute_result"
    }
   ],
   "source": [
    "'T' not in \"Teja\""
   ]
  },
  {
   "cell_type": "code",
   "execution_count": 20,
   "id": "51a1be88",
   "metadata": {},
   "outputs": [
    {
     "data": {
      "text/plain": [
       "False"
      ]
     },
     "execution_count": 20,
     "metadata": {},
     "output_type": "execute_result"
    }
   ],
   "source": [
    "'R' not in 'Ram'"
   ]
  },
  {
   "cell_type": "code",
   "execution_count": 21,
   "id": "879dbd9b",
   "metadata": {},
   "outputs": [
    {
     "data": {
      "text/plain": [
       "True"
      ]
     },
     "execution_count": 21,
     "metadata": {},
     "output_type": "execute_result"
    }
   ],
   "source": [
    "'R' not in \"Sita\""
   ]
  },
  {
   "cell_type": "markdown",
   "id": "d8dd44fb",
   "metadata": {},
   "source": [
    "# Data Types"
   ]
  },
  {
   "cell_type": "code",
   "execution_count": 22,
   "id": "92664320",
   "metadata": {},
   "outputs": [
    {
     "name": "stdout",
     "output_type": "stream",
     "text": [
      "50\n",
      "-10\n"
     ]
    }
   ],
   "source": [
    "a  = 20  #int\n",
    "b =  30\n",
    "\n",
    "print(a+b)\n",
    "print(a-b)"
   ]
  },
  {
   "cell_type": "code",
   "execution_count": 23,
   "id": "0975fe07",
   "metadata": {},
   "outputs": [
    {
     "name": "stdout",
     "output_type": "stream",
     "text": [
      "600\n"
     ]
    }
   ],
   "source": [
    "print(a*b)"
   ]
  },
  {
   "cell_type": "code",
   "execution_count": 24,
   "id": "ef39b573",
   "metadata": {},
   "outputs": [],
   "source": [
    "x = 34.6\n",
    "y = 89.5"
   ]
  },
  {
   "cell_type": "code",
   "execution_count": 26,
   "id": "66f6ef87",
   "metadata": {},
   "outputs": [
    {
     "name": "stdout",
     "output_type": "stream",
     "text": [
      "<class 'float'>\n"
     ]
    }
   ],
   "source": [
    "print(type(x and y))"
   ]
  },
  {
   "cell_type": "code",
   "execution_count": 27,
   "id": "47aa41fe",
   "metadata": {},
   "outputs": [
    {
     "name": "stdout",
     "output_type": "stream",
     "text": [
      "50\n"
     ]
    }
   ],
   "source": [
    "print(a+b)"
   ]
  },
  {
   "cell_type": "code",
   "execution_count": 28,
   "id": "894478e1",
   "metadata": {},
   "outputs": [
    {
     "name": "stdout",
     "output_type": "stream",
     "text": [
      "-10\n"
     ]
    }
   ],
   "source": [
    "print(a-b)"
   ]
  },
  {
   "cell_type": "markdown",
   "id": "326336c2",
   "metadata": {},
   "source": [
    "# LISTS"
   ]
  },
  {
   "cell_type": "code",
   "execution_count": 33,
   "id": "02d16b8c",
   "metadata": {},
   "outputs": [
    {
     "name": "stdout",
     "output_type": "stream",
     "text": [
      "['Aravind', 'Teja', 3, 5, 3.5, 2003]\n"
     ]
    }
   ],
   "source": [
    "list1 = [\"Aravind\",\"Teja\",3,5,3.5,2003]\n",
    "print(list1)"
   ]
  },
  {
   "cell_type": "code",
   "execution_count": 34,
   "id": "da002f47",
   "metadata": {},
   "outputs": [
    {
     "data": {
      "text/plain": [
       "list"
      ]
     },
     "execution_count": 34,
     "metadata": {},
     "output_type": "execute_result"
    }
   ],
   "source": [
    "type(list1)"
   ]
  },
  {
   "cell_type": "code",
   "execution_count": 35,
   "id": "7e76e5f6",
   "metadata": {},
   "outputs": [
    {
     "data": {
      "text/plain": [
       "'Aravind'"
      ]
     },
     "execution_count": 35,
     "metadata": {},
     "output_type": "execute_result"
    }
   ],
   "source": [
    "list1[0]"
   ]
  },
  {
   "cell_type": "code",
   "execution_count": 36,
   "id": "b470787e",
   "metadata": {},
   "outputs": [
    {
     "data": {
      "text/plain": [
       "2003"
      ]
     },
     "execution_count": 36,
     "metadata": {},
     "output_type": "execute_result"
    }
   ],
   "source": [
    "list1[-1]"
   ]
  },
  {
   "cell_type": "code",
   "execution_count": 40,
   "id": "bd478933",
   "metadata": {},
   "outputs": [
    {
     "data": {
      "text/plain": [
       "['Aravind', 'Teja', 3, 5]"
      ]
     },
     "execution_count": 40,
     "metadata": {},
     "output_type": "execute_result"
    }
   ],
   "source": [
    "list1[:4]"
   ]
  },
  {
   "cell_type": "code",
   "execution_count": 42,
   "id": "05c18bd7",
   "metadata": {},
   "outputs": [
    {
     "data": {
      "text/plain": [
       "[2003, 3.5, 5, 3, 'Teja', 'Aravind']"
      ]
     },
     "execution_count": 42,
     "metadata": {},
     "output_type": "execute_result"
    }
   ],
   "source": [
    "list1[::-1]"
   ]
  },
  {
   "cell_type": "code",
   "execution_count": 43,
   "id": "52b27056",
   "metadata": {},
   "outputs": [],
   "source": [
    "list1.append(2009)"
   ]
  },
  {
   "cell_type": "code",
   "execution_count": 44,
   "id": "8d053e12",
   "metadata": {},
   "outputs": [
    {
     "data": {
      "text/plain": [
       "['Aravind', 'Teja', 3, 5, 3.5, 2003, 2009]"
      ]
     },
     "execution_count": 44,
     "metadata": {},
     "output_type": "execute_result"
    }
   ],
   "source": [
    "list1"
   ]
  },
  {
   "cell_type": "code",
   "execution_count": 45,
   "id": "85ecb0da",
   "metadata": {},
   "outputs": [
    {
     "data": {
      "text/plain": [
       "2009"
      ]
     },
     "execution_count": 45,
     "metadata": {},
     "output_type": "execute_result"
    }
   ],
   "source": [
    "list1.pop()"
   ]
  },
  {
   "cell_type": "code",
   "execution_count": 46,
   "id": "747e6b3a",
   "metadata": {},
   "outputs": [
    {
     "data": {
      "text/plain": [
       "['Aravind', 'Teja', 3, 5, 3.5, 2003]"
      ]
     },
     "execution_count": 46,
     "metadata": {},
     "output_type": "execute_result"
    }
   ],
   "source": [
    "list1"
   ]
  },
  {
   "cell_type": "code",
   "execution_count": 47,
   "id": "7ce62383",
   "metadata": {},
   "outputs": [
    {
     "data": {
      "text/plain": [
       "3"
      ]
     },
     "execution_count": 47,
     "metadata": {},
     "output_type": "execute_result"
    }
   ],
   "source": [
    "list1.pop(2)"
   ]
  },
  {
   "cell_type": "code",
   "execution_count": 48,
   "id": "8dfb1892",
   "metadata": {},
   "outputs": [
    {
     "data": {
      "text/plain": [
       "['Aravind', 'Teja', 5, 3.5, 2003]"
      ]
     },
     "execution_count": 48,
     "metadata": {},
     "output_type": "execute_result"
    }
   ],
   "source": [
    "list1"
   ]
  },
  {
   "cell_type": "code",
   "execution_count": 51,
   "id": "a28912b0",
   "metadata": {},
   "outputs": [],
   "source": [
    "list1.remove('Teja')"
   ]
  },
  {
   "cell_type": "code",
   "execution_count": 52,
   "id": "c69581df",
   "metadata": {},
   "outputs": [
    {
     "data": {
      "text/plain": [
       "['Aravind', 5, 3.5, 2003]"
      ]
     },
     "execution_count": 52,
     "metadata": {},
     "output_type": "execute_result"
    }
   ],
   "source": [
    "list1"
   ]
  },
  {
   "cell_type": "code",
   "execution_count": 53,
   "id": "4e3d1501",
   "metadata": {},
   "outputs": [],
   "source": [
    "list1.insert(0,\"Teja\")"
   ]
  },
  {
   "cell_type": "code",
   "execution_count": 54,
   "id": "c97d0e00",
   "metadata": {},
   "outputs": [
    {
     "data": {
      "text/plain": [
       "['Teja', 'Aravind', 5, 3.5, 2003]"
      ]
     },
     "execution_count": 54,
     "metadata": {},
     "output_type": "execute_result"
    }
   ],
   "source": [
    "list1"
   ]
  },
  {
   "cell_type": "code",
   "execution_count": 56,
   "id": "4b013bcb",
   "metadata": {},
   "outputs": [],
   "source": [
    "list1.insert(-1,909)"
   ]
  },
  {
   "cell_type": "code",
   "execution_count": 57,
   "id": "4b0a4783",
   "metadata": {},
   "outputs": [
    {
     "data": {
      "text/plain": [
       "['Teja', 'Aravind', 5, 3.5, 909, 2003]"
      ]
     },
     "execution_count": 57,
     "metadata": {},
     "output_type": "execute_result"
    }
   ],
   "source": [
    "list1"
   ]
  },
  {
   "cell_type": "code",
   "execution_count": 60,
   "id": "a6545c4a",
   "metadata": {},
   "outputs": [
    {
     "data": {
      "text/plain": [
       "[2, 3, 589, 9990, 3445, 12212]"
      ]
     },
     "execution_count": 60,
     "metadata": {},
     "output_type": "execute_result"
    }
   ],
   "source": [
    "list2 =  [2,3,589,9990,3445,12212]\n",
    "list2"
   ]
  },
  {
   "cell_type": "code",
   "execution_count": 61,
   "id": "12730eb3",
   "metadata": {},
   "outputs": [
    {
     "data": {
      "text/plain": [
       "[2, 3, 589, 9990, 3445, 12212]"
      ]
     },
     "execution_count": 61,
     "metadata": {},
     "output_type": "execute_result"
    }
   ],
   "source": [
    "list2"
   ]
  },
  {
   "cell_type": "code",
   "execution_count": 65,
   "id": "b9b4e3d2",
   "metadata": {},
   "outputs": [
    {
     "name": "stdout",
     "output_type": "stream",
     "text": [
      "[2, 3, 589, 3445, 9990, 12212]\n"
     ]
    }
   ],
   "source": [
    "list2.sort()\n",
    "print(list2)"
   ]
  },
  {
   "cell_type": "code",
   "execution_count": 66,
   "id": "2951d812",
   "metadata": {},
   "outputs": [],
   "source": [
    "list2.sort(reverse=True)"
   ]
  },
  {
   "cell_type": "code",
   "execution_count": 67,
   "id": "336c9352",
   "metadata": {},
   "outputs": [
    {
     "data": {
      "text/plain": [
       "[12212, 9990, 3445, 589, 3, 2]"
      ]
     },
     "execution_count": 67,
     "metadata": {},
     "output_type": "execute_result"
    }
   ],
   "source": [
    "list2"
   ]
  },
  {
   "cell_type": "code",
   "execution_count": 68,
   "id": "d7f0d156",
   "metadata": {},
   "outputs": [],
   "source": [
    "sorted_list = sorted(list2)"
   ]
  },
  {
   "cell_type": "code",
   "execution_count": 70,
   "id": "e6b0dc94",
   "metadata": {},
   "outputs": [
    {
     "data": {
      "text/plain": [
       "[2, 3, 589, 3445, 9990, 12212]"
      ]
     },
     "execution_count": 70,
     "metadata": {},
     "output_type": "execute_result"
    }
   ],
   "source": [
    "sorted_list"
   ]
  },
  {
   "cell_type": "code",
   "execution_count": 71,
   "id": "234468b2",
   "metadata": {},
   "outputs": [
    {
     "data": {
      "text/plain": [
       "[12212, 9990, 3445, 589, 3, 2]"
      ]
     },
     "execution_count": 71,
     "metadata": {},
     "output_type": "execute_result"
    }
   ],
   "source": [
    "list2"
   ]
  },
  {
   "cell_type": "code",
   "execution_count": 72,
   "id": "1cd69746",
   "metadata": {},
   "outputs": [],
   "source": [
    "list2.extend(sorted_list)"
   ]
  },
  {
   "cell_type": "code",
   "execution_count": 73,
   "id": "d04e5e2b",
   "metadata": {},
   "outputs": [
    {
     "data": {
      "text/plain": [
       "[12212, 9990, 3445, 589, 3, 2, 2, 3, 589, 3445, 9990, 12212]"
      ]
     },
     "execution_count": 73,
     "metadata": {},
     "output_type": "execute_result"
    }
   ],
   "source": [
    "list2"
   ]
  },
  {
   "cell_type": "code",
   "execution_count": 74,
   "id": "67ab129f",
   "metadata": {},
   "outputs": [],
   "source": [
    "list1.append(list2)"
   ]
  },
  {
   "cell_type": "code",
   "execution_count": 75,
   "id": "0f3366c1",
   "metadata": {},
   "outputs": [
    {
     "data": {
      "text/plain": [
       "['Teja',\n",
       " 'Aravind',\n",
       " 5,\n",
       " 3.5,\n",
       " 909,\n",
       " 2003,\n",
       " [12212, 9990, 3445, 589, 3, 2, 2, 3, 589, 3445, 9990, 12212]]"
      ]
     },
     "execution_count": 75,
     "metadata": {},
     "output_type": "execute_result"
    }
   ],
   "source": [
    "list1"
   ]
  },
  {
   "cell_type": "code",
   "execution_count": 83,
   "id": "4a6bbb51",
   "metadata": {},
   "outputs": [
    {
     "data": {
      "text/plain": [
       "7"
      ]
     },
     "execution_count": 83,
     "metadata": {},
     "output_type": "execute_result"
    }
   ],
   "source": [
    "len(list1)"
   ]
  },
  {
   "cell_type": "code",
   "execution_count": 85,
   "id": "9cb26cea",
   "metadata": {},
   "outputs": [],
   "source": [
    "list3  = list2.copy()"
   ]
  },
  {
   "cell_type": "code",
   "execution_count": 86,
   "id": "36d88245",
   "metadata": {},
   "outputs": [
    {
     "data": {
      "text/plain": [
       "[12212, 9990, 3445, 589, 3, 2, 2, 3, 589, 3445, 9990, 12212]"
      ]
     },
     "execution_count": 86,
     "metadata": {},
     "output_type": "execute_result"
    }
   ],
   "source": [
    "list3"
   ]
  },
  {
   "cell_type": "code",
   "execution_count": null,
   "id": "4a15a525",
   "metadata": {},
   "outputs": [],
   "source": []
  }
 ],
 "metadata": {
  "kernelspec": {
   "display_name": "Python 3 (ipykernel)",
   "language": "python",
   "name": "python3"
  },
  "language_info": {
   "codemirror_mode": {
    "name": "ipython",
    "version": 3
   },
   "file_extension": ".py",
   "mimetype": "text/x-python",
   "name": "python",
   "nbconvert_exporter": "python",
   "pygments_lexer": "ipython3",
   "version": "3.11.5"
  }
 },
 "nbformat": 4,
 "nbformat_minor": 5
}
