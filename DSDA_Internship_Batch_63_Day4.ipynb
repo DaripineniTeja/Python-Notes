{
 "cells": [
  {
   "cell_type": "markdown",
   "id": "97efa186",
   "metadata": {},
   "source": [
    "# FUNCTIONS"
   ]
  },
  {
   "cell_type": "code",
   "execution_count": 12,
   "id": "e74fd5d3",
   "metadata": {},
   "outputs": [
    {
     "name": "stdout",
     "output_type": "stream",
     "text": [
      "['Teja', 6, 5, 4, 3, 2, 1]\n"
     ]
    }
   ],
   "source": [
    "#Functions defines by users is known as User-defined Function\n",
    "\n",
    "string = [900,855,398,4,74,64,'Teja']\n",
    "\n",
    "def fun(l):\n",
    "    l.reverse()\n",
    "    return l\n",
    "\n",
    "reversed  = fun(string)\n",
    "print(reversed)"
   ]
  },
  {
   "cell_type": "code",
   "execution_count": 15,
   "id": "f9f5ba74",
   "metadata": {},
   "outputs": [
    {
     "name": "stdout",
     "output_type": "stream",
     "text": [
      "['jkv', 'idjd', 'dbv', 'aabhjb']\n"
     ]
    }
   ],
   "source": [
    "list2 = ['aabhjb','dbv','idjd','jkv']\n",
    "print(fun(list2))"
   ]
  },
  {
   "cell_type": "markdown",
   "id": "353581e5",
   "metadata": {},
   "source": [
    "# Tuples"
   ]
  },
  {
   "cell_type": "code",
   "execution_count": 16,
   "id": "54044ea6",
   "metadata": {},
   "outputs": [
    {
     "name": "stdout",
     "output_type": "stream",
     "text": [
      "('Teja', 'Aravind', 'Nagaraju', 'Gayathri', 852963)\n"
     ]
    }
   ],
   "source": [
    "# Tuple is Immutable\n",
    "\n",
    "tupl = (\"Teja\",\"Aravind\",\"Nagaraju\",\"Gayathri\",852963)\n",
    "print(tupl)"
   ]
  },
  {
   "cell_type": "code",
   "execution_count": 17,
   "id": "aeed1f13",
   "metadata": {},
   "outputs": [
    {
     "name": "stdout",
     "output_type": "stream",
     "text": [
      "(2, 5, 7, 3, 5, 6, 4)\n"
     ]
    }
   ],
   "source": [
    "tupl1 = (2,5,7,3,5,6,4)\n",
    "print(tupl1)"
   ]
  },
  {
   "cell_type": "code",
   "execution_count": 18,
   "id": "d7bee7ff",
   "metadata": {},
   "outputs": [
    {
     "name": "stdout",
     "output_type": "stream",
     "text": [
      "()\n"
     ]
    }
   ],
   "source": [
    "tup  = ()\n",
    "print(tup)"
   ]
  },
  {
   "cell_type": "code",
   "execution_count": 20,
   "id": "108b1680",
   "metadata": {},
   "outputs": [
    {
     "name": "stdout",
     "output_type": "stream",
     "text": [
      "<class 'tuple'>\n"
     ]
    }
   ],
   "source": [
    "print(type(tup))"
   ]
  },
  {
   "cell_type": "code",
   "execution_count": 21,
   "id": "f6f087bd",
   "metadata": {},
   "outputs": [
    {
     "data": {
      "text/plain": [
       "2154081354944"
      ]
     },
     "execution_count": 21,
     "metadata": {},
     "output_type": "execute_result"
    }
   ],
   "source": [
    "id(list2)"
   ]
  },
  {
   "cell_type": "code",
   "execution_count": 22,
   "id": "129dafec",
   "metadata": {},
   "outputs": [
    {
     "data": {
      "text/plain": [
       "140735949600216"
      ]
     },
     "execution_count": 22,
     "metadata": {},
     "output_type": "execute_result"
    }
   ],
   "source": [
    "id(tup)"
   ]
  },
  {
   "cell_type": "code",
   "execution_count": 23,
   "id": "f6154a80",
   "metadata": {},
   "outputs": [
    {
     "ename": "TypeError",
     "evalue": "'tuple' object does not support item assignment",
     "output_type": "error",
     "traceback": [
      "\u001b[1;31m---------------------------------------------------------------------------\u001b[0m",
      "\u001b[1;31mTypeError\u001b[0m                                 Traceback (most recent call last)",
      "Cell \u001b[1;32mIn[23], line 1\u001b[0m\n\u001b[1;32m----> 1\u001b[0m tupl[\u001b[38;5;241m1\u001b[39m] \u001b[38;5;241m=\u001b[39m \u001b[38;5;124m'\u001b[39m\u001b[38;5;124ma\u001b[39m\u001b[38;5;124m'\u001b[39m\n\u001b[0;32m      2\u001b[0m \u001b[38;5;28mprint\u001b[39m(tupl)\n",
      "\u001b[1;31mTypeError\u001b[0m: 'tuple' object does not support item assignment"
     ]
    }
   ],
   "source": [
    "tupl[1] = 'a'\n",
    "print(tupl)"
   ]
  },
  {
   "cell_type": "code",
   "execution_count": 24,
   "id": "d99daee0",
   "metadata": {},
   "outputs": [
    {
     "ename": "AttributeError",
     "evalue": "'tuple' object has no attribute 'pop'",
     "output_type": "error",
     "traceback": [
      "\u001b[1;31m---------------------------------------------------------------------------\u001b[0m",
      "\u001b[1;31mAttributeError\u001b[0m                            Traceback (most recent call last)",
      "Cell \u001b[1;32mIn[24], line 1\u001b[0m\n\u001b[1;32m----> 1\u001b[0m tupl\u001b[38;5;241m.\u001b[39mpop()\n",
      "\u001b[1;31mAttributeError\u001b[0m: 'tuple' object has no attribute 'pop'"
     ]
    }
   ],
   "source": [
    "tupl.pop()"
   ]
  },
  {
   "cell_type": "markdown",
   "id": "9d41242d",
   "metadata": {},
   "source": [
    "Tuple cannot be modified"
   ]
  },
  {
   "cell_type": "markdown",
   "id": "9ea235cd",
   "metadata": {},
   "source": [
    "# SETS"
   ]
  },
  {
   "cell_type": "code",
   "execution_count": 26,
   "id": "a74e0231",
   "metadata": {},
   "outputs": [
    {
     "name": "stdout",
     "output_type": "stream",
     "text": [
      "{'a', 'b', 'c', 'd'}\n"
     ]
    }
   ],
   "source": [
    "normal_set = set(['a','b','c','d'])\n",
    "print(normal_set)"
   ]
  },
  {
   "cell_type": "code",
   "execution_count": 28,
   "id": "2b714ba7",
   "metadata": {},
   "outputs": [
    {
     "name": "stdout",
     "output_type": "stream",
     "text": [
      "{'c', 'a', 'e', 'b', 'd'}\n"
     ]
    }
   ],
   "source": [
    "normal_set.add('e')\n",
    "print(normal_set)"
   ]
  },
  {
   "cell_type": "code",
   "execution_count": 32,
   "id": "e1d9bea5",
   "metadata": {},
   "outputs": [
    {
     "name": "stdout",
     "output_type": "stream",
     "text": [
      "{'c', 'a', 'e', 'b', 'd'}\n"
     ]
    }
   ],
   "source": [
    "normal_set.add('e')\n",
    "print(normal_set)"
   ]
  },
  {
   "cell_type": "code",
   "execution_count": 37,
   "id": "71f8b674",
   "metadata": {},
   "outputs": [
    {
     "name": "stdout",
     "output_type": "stream",
     "text": [
      "frozenset({1, 2, 3, 4, 5, 6, 7})\n"
     ]
    }
   ],
   "source": [
    "frozen = frozenset([1,2,3,4,5,6,7])\n",
    "print(frozen)"
   ]
  },
  {
   "cell_type": "code",
   "execution_count": 38,
   "id": "99aba13a",
   "metadata": {},
   "outputs": [
    {
     "ename": "AttributeError",
     "evalue": "'frozenset' object has no attribute 'add'",
     "output_type": "error",
     "traceback": [
      "\u001b[1;31m---------------------------------------------------------------------------\u001b[0m",
      "\u001b[1;31mAttributeError\u001b[0m                            Traceback (most recent call last)",
      "Cell \u001b[1;32mIn[38], line 1\u001b[0m\n\u001b[1;32m----> 1\u001b[0m frozen\u001b[38;5;241m.\u001b[39madd(\u001b[38;5;241m10\u001b[39m)\n",
      "\u001b[1;31mAttributeError\u001b[0m: 'frozenset' object has no attribute 'add'"
     ]
    }
   ],
   "source": [
    "frozen.add(10)"
   ]
  },
  {
   "cell_type": "code",
   "execution_count": 43,
   "id": "4f9b09ed",
   "metadata": {},
   "outputs": [
    {
     "name": "stdout",
     "output_type": "stream",
     "text": [
      "set() set()\n",
      "{0, 1, 2, 3, 4, 5, 6, 7, 8, 9}\n",
      "{0, 1, 2, 3, 4, 5, 6, 7, 8, 9, 10, 11, 12, 13, 14, 15, 16, 17, 18, 19}\n"
     ]
    }
   ],
   "source": [
    "set1 = set()\n",
    "set2 = set()\n",
    "\n",
    "print(set1,set2)\n",
    "\n",
    "for i in range(0,10):\n",
    "    set1.add(i)\n",
    "print(set1)\n",
    "for j in range(0,20):\n",
    "    set2.add(j)\n",
    "print(set2)"
   ]
  },
  {
   "cell_type": "code",
   "execution_count": 44,
   "id": "cc53f7dc",
   "metadata": {},
   "outputs": [
    {
     "name": "stdout",
     "output_type": "stream",
     "text": [
      "{0, 1, 2, 3, 4, 5, 6, 7, 8, 9, 10, 11, 12, 13, 14, 15, 16, 17, 18, 19}\n"
     ]
    }
   ],
   "source": [
    "union = set1|set2\n",
    "print(union)"
   ]
  },
  {
   "cell_type": "code",
   "execution_count": 45,
   "id": "d6084e05",
   "metadata": {},
   "outputs": [
    {
     "name": "stdout",
     "output_type": "stream",
     "text": [
      "{0, 1, 2, 3, 4, 5, 6, 7, 8, 9}\n"
     ]
    }
   ],
   "source": [
    "set3 = set1 & set2\n",
    "print(set3)"
   ]
  },
  {
   "cell_type": "code",
   "execution_count": 47,
   "id": "46253112",
   "metadata": {},
   "outputs": [
    {
     "name": "stdout",
     "output_type": "stream",
     "text": [
      "{10, 11, 12, 13, 14, 15, 16, 17, 18, 19}\n"
     ]
    }
   ],
   "source": [
    "set4 = set2-set1\n",
    "print(set4)"
   ]
  },
  {
   "cell_type": "code",
   "execution_count": 48,
   "id": "8880fb04",
   "metadata": {},
   "outputs": [
    {
     "name": "stdout",
     "output_type": "stream",
     "text": [
      "Both sets are equal\n"
     ]
    }
   ],
   "source": [
    "if set3 > set4:\n",
    "    print(\"Set3 is Greater than Set4\")\n",
    "elif(set4 > set3):\n",
    "    print(\"Set4 is Greater then Set3\")\n",
    "else:\n",
    "    print(\"Both sets are equal\")"
   ]
  },
  {
   "cell_type": "code",
   "execution_count": null,
   "id": "0185c0de",
   "metadata": {},
   "outputs": [],
   "source": []
  },
  {
   "cell_type": "code",
   "execution_count": null,
   "id": "f69bc002",
   "metadata": {},
   "outputs": [],
   "source": []
  },
  {
   "cell_type": "code",
   "execution_count": null,
   "id": "d8612d1a",
   "metadata": {},
   "outputs": [],
   "source": []
  },
  {
   "cell_type": "code",
   "execution_count": null,
   "id": "796fdf73",
   "metadata": {},
   "outputs": [],
   "source": []
  },
  {
   "cell_type": "code",
   "execution_count": null,
   "id": "f951efc9",
   "metadata": {},
   "outputs": [],
   "source": []
  },
  {
   "cell_type": "code",
   "execution_count": null,
   "id": "33b09d9f",
   "metadata": {},
   "outputs": [],
   "source": []
  },
  {
   "cell_type": "code",
   "execution_count": null,
   "id": "fbf31431",
   "metadata": {},
   "outputs": [],
   "source": []
  },
  {
   "cell_type": "code",
   "execution_count": null,
   "id": "4c5ed4f4",
   "metadata": {},
   "outputs": [],
   "source": []
  },
  {
   "cell_type": "code",
   "execution_count": null,
   "id": "8f967f52",
   "metadata": {},
   "outputs": [],
   "source": []
  },
  {
   "cell_type": "code",
   "execution_count": null,
   "id": "7aba50d5",
   "metadata": {},
   "outputs": [],
   "source": [
    "\n"
   ]
  }
 ],
 "metadata": {
  "kernelspec": {
   "display_name": "Python 3 (ipykernel)",
   "language": "python",
   "name": "python3"
  },
  "language_info": {
   "codemirror_mode": {
    "name": "ipython",
    "version": 3
   },
   "file_extension": ".py",
   "mimetype": "text/x-python",
   "name": "python",
   "nbconvert_exporter": "python",
   "pygments_lexer": "ipython3",
   "version": "3.11.5"
  }
 },
 "nbformat": 4,
 "nbformat_minor": 5
}
